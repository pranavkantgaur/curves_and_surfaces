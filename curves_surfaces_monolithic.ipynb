{
  "nbformat": 4,
  "nbformat_minor": 0,
  "metadata": {
    "colab": {
      "provenance": [],
      "authorship_tag": "ABX9TyOxptErPKxFtt4xcRdgLmtm",
      "include_colab_link": true
    },
    "kernelspec": {
      "name": "python3",
      "display_name": "Python 3"
    },
    "language_info": {
      "name": "python"
    }
  },
  "cells": [
    {
      "cell_type": "markdown",
      "metadata": {
        "id": "view-in-github",
        "colab_type": "text"
      },
      "source": [
        "<a href=\"https://colab.research.google.com/github/pranavkantgaur/curves_and_surfaces/blob/master/curves_surfaces_monolithic.ipynb\" target=\"_parent\"><img src=\"https://colab.research.google.com/assets/colab-badge.svg\" alt=\"Open In Colab\"/></a>"
      ]
    },
    {
      "cell_type": "markdown",
      "source": [
        "## What are curves and surfaces?"
      ],
      "metadata": {
        "id": "Cm-FgD1ohyME"
      }
    },
    {
      "cell_type": "code",
      "source": [
        "import numpy as np\n",
        "import matplotlib.pyplot as plt\n",
        "from scipy import interpolate\n",
        "import bezier  # Ensure you have the bezier library installed\n",
        "from geomdl import BSpline\n",
        "\n",
        "# Sample data points\n",
        "x_data = np.array([0, 1, 2, 3])\n",
        "y_data = np.array([0, 1, 4, 9])  # Quadratic function y = x^2\n",
        "\n",
        "# Prepare a fine grid for plotting curves\n",
        "x_fine = np.linspace(0, 3, 100)\n",
        "\n",
        "# Linear Curve\n",
        "y_linear = x_fine\n",
        "\n",
        "# Quadratic Curve\n",
        "y_quadratic = x_fine**2\n",
        "\n",
        "# Cubic Curve\n",
        "y_cubic = (x_fine**3) / 27  # Scale for better visualization\n",
        "\n",
        "# Spline Curve\n",
        "spline_tck = interpolate.splrep(x_data, y_data)\n",
        "y_spline = interpolate.splev(x_fine, spline_tck)\n",
        "\n",
        "# NURBS Curve (using geomdl)\n",
        "nurbs_curve = BSpline.Curve()\n",
        "nurbs_curve.degree = 3\n",
        "nurbs_curve.ctrlpts = [[0, 0], [1, 1], [2, 4], [3, 1]]  # Control points for NURBS\n",
        "nurbs_curve.knotvector = [0, 0, 0, 1, 1, 1]  # Example knot vector for a cubic NURBS\n",
        "nurbs_points = nurbs_curve.evaluate(num_pts=100).pts\n",
        "x_nurbs = nurbs_points[:, 0]\n",
        "y_nurbs = nurbs_points[:, 1]\n",
        "\n",
        "# Bézier Curve (using bezier library)\n",
        "bezier_nodes = np.array([[0, 0], [1.5, 2.5], [2.5, 2], [3, 0]])  # Control points for Bézier curve\n",
        "bezier_curve = bezier.Curve(bezier_nodes.T, degree=len(bezier_nodes) - 1)\n",
        "bezier_points = bezier_curve.evaluate_list(np.linspace(0.0, 1.0, num=100)).T\n",
        "x_bezier = bezier_points[:, 0]\n",
        "y_bezier = bezier_points[:, 1]\n",
        "\n",
        "# Plotting all curves\n",
        "plt.figure(figsize=(12, 8))\n",
        "\n",
        "plt.subplot(2, 3, 1)\n",
        "plt.plot(x_fine, y_linear, label='Linear')\n",
        "plt.title('Linear Curve')\n",
        "plt.xlabel('X')\n",
        "plt.ylabel('Y')\n",
        "plt.grid()\n",
        "plt.legend()\n",
        "\n",
        "plt.subplot(2, 3, 2)\n",
        "plt.plot(x_fine, y_quadratic, label='Quadratic', color='orange')\n",
        "plt.title('Quadratic Curve')\n",
        "plt.xlabel('X')\n",
        "plt.ylabel('Y')\n",
        "plt.grid()\n",
        "plt.legend()\n",
        "\n",
        "plt.subplot(2, 3, 3)\n",
        "plt.plot(x_fine, y_cubic, label='Cubic', color='green')\n",
        "plt.title('Cubic Curve')\n",
        "plt.xlabel('X')\n",
        "plt.ylabel('Y')\n",
        "plt.grid()\n",
        "plt.legend()\n",
        "\n",
        "plt.subplot(2, 3, 4)\n",
        "plt.plot(x_fine, y_spline, label='Spline', color='red')\n",
        "plt.title('Spline Curve')\n",
        "plt.xlabel('X')\n",
        "plt.ylabel('Y')\n",
        "plt.grid()\n",
        "plt.legend()\n",
        "\n",
        "plt.subplot(2, 3, 5)\n",
        "plt.plot(x_nurbs[:,0], y_nurbs[:,1], label='NURBS', color='purple')\n",
        "plt.title('NURBS Curve')\n",
        "plt.xlabel('X')\n",
        "plt.ylabel('Y')\n",
        "plt.grid()\n",
        "plt.legend()\n",
        "\n",
        "plt.subplot(2, 3, 6)\n",
        "plt.plot(x_bezier, y_bezier,label='Bézier', color='brown')\n",
        "plt.title('Bézier Curve')\n",
        "plt.xlabel('X')\n",
        "plt.ylabel('Y')\n",
        "plt.grid()\n",
        "plt.legend()\n",
        "\n",
        "# Adjust layout and show plot\n",
        "plt.tight_layout()\n",
        "plt.show()\n"
      ],
      "metadata": {
        "id": "jnRuNQWOj7Bq"
      },
      "execution_count": null,
      "outputs": []
    },
    {
      "cell_type": "markdown",
      "source": [
        "## A running example\n",
        "#### Developing ML model for nuclear cross-section estimation\n",
        "* Scenario 1: The experimental dataset has cross-section values as a function of only energy. In this case, users can augment the dataset using various 1D curve generation methods.\n",
        "* Scenario 2: The experimental dataset has cross-section values as a function of both energy and temperature. Here, users can augment the dataset using various 2D surface generation methods.\n"
      ],
      "metadata": {
        "id": "CqttZ8unjlnh"
      }
    },
    {
      "cell_type": "code",
      "execution_count": null,
      "metadata": {
        "id": "VySl_4eCgwe5"
      },
      "outputs": [],
      "source": [
        "import numpy as np\n",
        "import pandas as pd\n",
        "import matplotlib.pyplot as plt\n",
        "from scipy import interpolate\n",
        "from sklearn.model_selection import train_test_split\n",
        "from sklearn.neural_network import MLPRegressor\n",
        "from sklearn.metrics import mean_squared_error\n",
        "\n",
        "# Function to perform 1D data augmentation using different curve generation methods\n",
        "def augment_data_1d(energy_data, cross_section_data, method='spline'):\n",
        "    energy_fine = np.linspace(min(energy_data), max(energy_data), num=100)\n",
        "\n",
        "    if method == 'linear':\n",
        "        augmented_cross_sections = np.interp(energy_fine, energy_data, cross_section_data)\n",
        "    elif method == 'spline':\n",
        "        spline_tck = interpolate.splrep(energy_data, cross_section_data)\n",
        "        augmented_cross_sections = interpolate.splev(energy_fine, spline_tck)\n",
        "    elif method == 'polynomial':\n",
        "        coeffs = np.polyfit(energy_data, cross_section_data, deg=3)\n",
        "        augmented_cross_sections = np.polyval(coeffs, energy_fine)\n",
        "    else:\n",
        "        raise ValueError(\"Unsupported curve generation method.\")\n",
        "\n",
        "    # Adding noise for augmentation\n",
        "    noise = np.random.normal(0, 0.1 * augmented_cross_sections)  # 10% noise\n",
        "    augmented_cross_sections += noise\n",
        "\n",
        "    return energy_fine, augmented_cross_sections\n",
        "\n",
        "# Function to perform 2D data augmentation using surface generation methods\n",
        "def augment_data_2d(energy_data, temperature_data, cross_section_data, method='linear'):\n",
        "    energy_fine = np.linspace(min(energy_data), max(energy_data), num=100)\n",
        "    temperature_fine = np.linspace(min(temperature_data), max(temperature_data), num=100)\n",
        "\n",
        "    # Create a meshgrid for 2D interpolation\n",
        "    E_grid, T_grid = np.meshgrid(energy_fine, temperature_fine)\n",
        "\n",
        "    if method == 'linear':\n",
        "        # Linear interpolation on a grid\n",
        "        Z = interpolate.griddata((energy_data, temperature_data), cross_section_data,\n",
        "                                 (E_grid.ravel(), T_grid.ravel()), method='linear')\n",
        "    elif method == 'cubic':\n",
        "        # Cubic interpolation on a grid\n",
        "        Z = interpolate.griddata((energy_data, temperature_data), cross_section_data,\n",
        "                                 (E_grid.ravel(), T_grid.ravel()), method='cubic')\n",
        "    else:\n",
        "        raise ValueError(\"Unsupported surface generation method.\")\n",
        "\n",
        "    # Reshape back to grid shape\n",
        "    Z = Z.reshape(E_grid.shape)\n",
        "\n",
        "    return E_grid, T_grid, Z\n",
        "\n",
        "# Load experimental cross-section dataset (for both scenarios)\n",
        "def load_dataset(file_path):\n",
        "    data = pd.read_csv(file_path)  # Assuming CSV format with appropriate columns\n",
        "    return data\n",
        "\n",
        "# Main function to run the training and evaluation process for both scenarios\n",
        "def main():\n",
        "    scenario = input(\"Select scenario (1 for Energy only, 2 for Energy and Temperature): \")\n",
        "\n",
        "    if scenario == '1':\n",
        "        # Load dataset for Scenario 1 (Energy only)\n",
        "        data = load_dataset('cross_section_energy_only.csv')  # Replace with actual file path\n",
        "        energy_data = data['Energy'].values\n",
        "        cross_section_data = data['CrossSection'].values\n",
        "\n",
        "        # Split into training and testing sets\n",
        "        X_train, X_test, y_train, y_test = train_test_split(\n",
        "            energy_data.reshape(-1, 1), cross_section_data, test_size=0.2, random_state=42)\n",
        "\n",
        "        # Choose curve generation method for augmentation\n",
        "        curve_method = input(\"Select curve generation method (linear/spline/polynomial): \")\n",
        "\n",
        "        # Data augmentation on-the-fly during training\n",
        "        augmented_energy, augmented_cross_sections = augment_data_1d(X_train.flatten(), y_train,\n",
        "                                                                     method=curve_method)\n",
        "\n",
        "        # Combine original and augmented data for training\n",
        "        X_combined = np.vstack((X_train.flatten(), augmented_energy))\n",
        "        y_combined = np.concatenate((y_train, augmented_cross_sections))\n",
        "\n",
        "        # Train a neural network model\n",
        "        model = MLPRegressor(hidden_layer_sizes=(100,), max_iter=1000)\n",
        "        model.fit(X_combined.reshape(-1, 1), y_combined)\n",
        "\n",
        "        # Make predictions on the test set\n",
        "        y_pred = model.predict(X_test)\n",
        "\n",
        "        # Evaluate the model performance\n",
        "        mse = mean_squared_error(y_test, y_pred)\n",
        "\n",
        "        print(f\"Mean Squared Error on Test Set: {mse:.4f}\")\n",
        "\n",
        "        # Plotting results for visualization\n",
        "        plt.figure(figsize=(10, 6))\n",
        "        plt.scatter(X_test, y_test, color='red', label='Test Data', zorder=5)\n",
        "        plt.scatter(X_test, y_pred, color='blue', label='Predicted Data', zorder=4)\n",
        "        plt.title('Neutron Cross-Section Prediction (Energy Only)')\n",
        "        plt.xlabel('Energy (eV)')\n",
        "        plt.ylabel('Cross Section (barns)')\n",
        "        plt.legend()\n",
        "        plt.grid()\n",
        "        plt.show()\n",
        "\n",
        "    elif scenario == '2':\n",
        "        # Load dataset for Scenario 2 (Energy and Temperature)\n",
        "        data = load_dataset('cross_section_energy_temperature.csv')  # Replace with actual file path\n",
        "        energy_data = data['Energy'].values\n",
        "        temperature_data = data['Temperature'].values\n",
        "        cross_section_data = data['CrossSection'].values\n",
        "\n",
        "        # Data augmentation using surface generation methods\n",
        "        surface_method = input(\"Select surface generation method (linear/cubic): \")\n",
        "\n",
        "        E_grid, T_grid, Z_augmented_cross_sections = augment_data_2d(\n",
        "            energy_data, temperature_data, cross_section_data,\n",
        "            method=surface_method)\n",
        "\n",
        "        # Plotting the augmented surface data\n",
        "        plt.figure(figsize=(12, 8))\n",
        "\n",
        "        # Create a contour plot of the predicted cross-sections as a function of energy and temperature.\n",
        "        contour_plot = plt.contourf(E_grid, T_grid, Z_augmented_cross_sections,\n",
        "                                     levels=50, cmap='viridis')\n",
        "\n",
        "        plt.colorbar(contour_plot)\n",
        "\n",
        "        plt.title('Augmented Neutron Cross-Section Surface')\n",
        "        plt.xlabel('Energy (eV)')\n",
        "        plt.ylabel('Temperature (K)')\n",
        "\n",
        "        plt.show()\n",
        "\n",
        "if __name__ == \"__main__\":\n",
        "    main()\n"
      ]
    },
    {
      "cell_type": "markdown",
      "source": [
        "## Lets dig deeper into the algorithms"
      ],
      "metadata": {
        "id": "ZtiaMCM2h6Vc"
      }
    },
    {
      "cell_type": "markdown",
      "source": [
        "### Bezier interpolation"
      ],
      "metadata": {
        "id": "qcM4CXhLjWN_"
      }
    },
    {
      "cell_type": "code",
      "source": [
        "## Pseudocode"
      ],
      "metadata": {
        "id": "yiDzN3DbkjQZ"
      },
      "execution_count": null,
      "outputs": []
    },
    {
      "cell_type": "code",
      "source": [
        "## Failed test-cases"
      ],
      "metadata": {
        "id": "Q5OBp_2Qkzm9"
      },
      "execution_count": null,
      "outputs": []
    },
    {
      "cell_type": "markdown",
      "source": [
        "### Spline interpolation"
      ],
      "metadata": {
        "id": "Y6UL75j3h-zC"
      }
    },
    {
      "cell_type": "code",
      "source": [
        "## Pseudocode"
      ],
      "metadata": {
        "id": "V0lpu5tmkq4k"
      },
      "execution_count": null,
      "outputs": []
    },
    {
      "cell_type": "code",
      "source": [
        "## Failed test-cases"
      ],
      "metadata": {
        "id": "aaGZUjjfk397"
      },
      "execution_count": null,
      "outputs": []
    },
    {
      "cell_type": "markdown",
      "source": [
        "### B-spline interpolation"
      ],
      "metadata": {
        "id": "_pQZ0Yf9jZzI"
      }
    },
    {
      "cell_type": "code",
      "source": [
        "## Pseudocode"
      ],
      "metadata": {
        "id": "sTL71SLNkrn9"
      },
      "execution_count": null,
      "outputs": []
    },
    {
      "cell_type": "code",
      "source": [
        "## Failed test-cases"
      ],
      "metadata": {
        "id": "f54LTp-Ck4pb"
      },
      "execution_count": null,
      "outputs": []
    },
    {
      "cell_type": "markdown",
      "source": [
        "### NURBS interpolation"
      ],
      "metadata": {
        "id": "PrgMJZcNjcve"
      }
    },
    {
      "cell_type": "code",
      "source": [
        "## Pseudocode"
      ],
      "metadata": {
        "id": "kMqMDGYGksS8"
      },
      "execution_count": null,
      "outputs": []
    },
    {
      "cell_type": "code",
      "source": [
        "## Failed test-cases"
      ],
      "metadata": {
        "id": "UicAUQJ2k5KV"
      },
      "execution_count": null,
      "outputs": []
    },
    {
      "cell_type": "markdown",
      "source": [
        "## Reflections"
      ],
      "metadata": {
        "id": "fPP_bbMejfc3"
      }
    },
    {
      "cell_type": "markdown",
      "source": [
        "### Which one to use when?"
      ],
      "metadata": {
        "id": "mLD5PCeek6R4"
      }
    }
  ]
}