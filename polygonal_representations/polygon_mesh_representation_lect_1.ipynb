{
  "nbformat": 4,
  "nbformat_minor": 0,
  "metadata": {
    "colab": {
      "name": "polygon_mesh_representation_lect_1.ipynb",
      "provenance": [],
      "collapsed_sections": [],
      "authorship_tag": "ABX9TyNtya8xb7nVCc8z5RcSaFMM",
      "include_colab_link": true
    },
    "kernelspec": {
      "name": "python3",
      "display_name": "Python 3"
    }
  },
  "cells": [
    {
      "cell_type": "markdown",
      "metadata": {
        "id": "view-in-github",
        "colab_type": "text"
      },
      "source": [
        "<a href=\"https://colab.research.google.com/github/pranavkantgaur/curves_and_surfaces/blob/master/polygonal_representations/polygon_mesh_representation_lect_1.ipynb\" target=\"_parent\"><img src=\"https://colab.research.google.com/assets/colab-badge.svg\" alt=\"Open In Colab\"/></a>"
      ]
    },
    {
      "cell_type": "markdown",
      "metadata": {
        "id": "vz9zIb00AItp",
        "colab_type": "text"
      },
      "source": [
        "## Playing with polygon mesh representation\n",
        "The purpose of this notebook is to play and understand the polygon representation of curves\n",
        "\n",
        "\n",
        "*   Explicit representation\n",
        "*   Pointers to vertex list\n",
        "*   Pointers to edge list\n",
        "\n",
        "### Objectives\n",
        "\n",
        "\n",
        "1.   Implement a class for each representation\n",
        "2.   Add interface for adding data to each representation\n",
        "3.   Adding assertions to maintain the consistency of representations\n",
        "\n",
        "\n",
        "\n"
      ]
    },
    {
      "cell_type": "code",
      "metadata": {
        "id": "PQzCYoXnGU3M",
        "colab_type": "code",
        "colab": {}
      },
      "source": [
        "class Mesh(object):\n",
        "  def __init__(self, mesh_size):\n",
        "    self.mesh_size = mesh_size\n",
        "\n",
        "  def add_polygon(self, p):\n",
        "    assert(len(polygon_list) < self.mesh_size)\n",
        "    polygon_list.append(p)    \n",
        "\n",
        "  def check_consistency(self):\n",
        "    NotImplementedError\n",
        "  \n",
        "  def list_shared_edges(self):\n",
        "    NotImplementedError  \n",
        "\n",
        "  def list_edge_count(self):\n",
        "    NotImplementedError\n",
        "\n",
        "  def detect_duplicate_vertices(self):\n",
        "    NotImplementedError  "
      ],
      "execution_count": 0,
      "outputs": []
    },
    {
      "cell_type": "markdown",
      "metadata": {
        "id": "gB4pH7qY3p26",
        "colab_type": "text"
      },
      "source": [
        "### Explicit representation"
      ]
    },
    {
      "cell_type": "code",
      "metadata": {
        "id": "kBMtlypE2SL7",
        "colab_type": "code",
        "colab": {}
      },
      "source": [
        "'''\n",
        "Each polygon is represented by a series of coordintaes. A mesh is a collection \n",
        "of polygons.\n",
        " * How to represent shared vertices/edges?\n",
        " * How to perform say, draging a vertex (and all its incident edges) \n",
        " interactively?\n",
        " * Will there be duplication if a vertex is shared?\n",
        "   * Same vertex may have slightly different coordinates in another polygon due \n",
        "   to non-repeatability of the floating point rounding-off process.  \n",
        " * No provision for ensuring connectivity of polygons?\n",
        " * Tradeoffs:\n",
        "   * Merits?\n",
        "   * Demerits?    \n",
        "'''\n",
        "class ExplicitRepresentationPolygon(object):\n",
        "  def __init__(self, max_vertices):\n",
        "    self.vertex_list = [] # notice each polygon has this!!\n",
        "    self.max_vertices_per_polygon = max_vertices\n",
        "\n",
        "  def add_vertex(self, x1, y1, z1):\n",
        "    assert(len(self.vertex_list) < self.max_vertex_per_polygon)\n",
        "    self.vertex_list.append([x1, y1, z1])\n",
        "\n",
        "\n",
        "if __def__ == '__main__':\n",
        "  mesh_size = 100 # polygon count\n",
        "  # create mesh object\n",
        "  mesh = Mesh(mesh_size)\n",
        "\n",
        "  # add polygons to the mesh\n",
        "  for i in range(mesh_size):\n",
        "    p = ExplicitRepresentationPolygon(3)\n",
        "    mesh.add_polygon(p)\n",
        "    \n",
        "  # check consistency    \n",
        "  #mesh.check_consistency()\n",
        "  #mesh.list_shared_edges()\n",
        "  #mesh.list_edge_count()\n",
        "  #mesh.detect_duplicate_vertices()"
      ],
      "execution_count": 0,
      "outputs": []
    },
    {
      "cell_type": "markdown",
      "metadata": {
        "id": "tgcTuaKY3uWN",
        "colab_type": "text"
      },
      "source": [
        "### Pointers to a vertex-list representation"
      ]
    },
    {
      "cell_type": "code",
      "metadata": {
        "id": "pZn_CsCi291r",
        "colab_type": "code",
        "colab": {}
      },
      "source": [
        "'''\n",
        "saves common vertex list, polygons of the mesh are defined in termsn of \n",
        "indices of the included vertices.\n",
        "V = (V1, V2, V3, V4, V5) = ((x1, y1, z1), (x2, y2, z2)...(x5,y5,z5))\n",
        "P1 = (1, 2, 4)\n",
        "P2 = (4, 2, 3)\n",
        " * Tradeoffs:\n",
        "   * Merits?\n",
        "   * Demerits?\n",
        "'''\n",
        "class VertexList(object): # shared among polygons\n",
        "  def __init__(self):\n",
        "    self.coordinate_list = []\n",
        "  def add_vertex(self, x1, y1, z1):\n",
        "    self.coordinate_list.append([x1, y1, z1])    \n",
        "\n",
        "class PointersToVertexListRepresentationPolygon(object):\n",
        "  def __init__(self, max_vertices_per_polygon):\n",
        "    self.vertex_list = []\n",
        "    self.max_vertices_per_polygon = max_vertices_per_polygon\n",
        "\n",
        "  def add_vertex(self, vertex_id):\n",
        "    assert(len(self.vertex_list) < self.max_vertices_per_polygon)\n",
        "    self.vertex_list.append(vertex_id) # Notice only the ids!!    \n",
        "\n",
        "if __def__ == '__main__':\n",
        "  mesh_size = 100 # polygon count\n",
        "  # create mesh object\n",
        "  mesh = Mesh(mesh_size)\n",
        "\n",
        "  # create vertex list\n",
        "  None\n",
        "\n",
        "  # create polygon list, or mesh\n",
        "  for i in range(mesh_size):\n",
        "    None\n",
        "  # check consistency    \n",
        "  #mesh.check_consistency()\n",
        "  #mesh.list_shared_edges()\n",
        "  #mesh.list_edge_count()\n",
        "  #mesh.detect_duplicate_vertices()    "
      ],
      "execution_count": 0,
      "outputs": []
    },
    {
      "cell_type": "markdown",
      "metadata": {
        "id": "Qwju_B2H3vlS",
        "colab_type": "text"
      },
      "source": [
        "### Pointers to an edge-list representation"
      ]
    },
    {
      "cell_type": "code",
      "metadata": {
        "id": "v81HhP_Z3ikZ",
        "colab_type": "code",
        "colab": {}
      },
      "source": [
        "'''\n",
        "Vertices are stored in a common array. Edges point to vertices and polygons. \n",
        "Since an edge can be shared among 2 polygons, each edge stores pointers to\n",
        "atmost two polygons.\n",
        "V = (V1, V2, V3, V4, V5)\n",
        "E1 = (V1, V2, P1, P2)\n",
        "E2 = (V1, V4, P1, None)\n",
        " * Tradeoffs:\n",
        "   * Merits?\n",
        "   * Demerits?\n",
        "'''\n",
        "class EdgeList(object): # shared by all polygons!!\n",
        "  def __init__(self, max_num_edges_mesh):\n",
        "    self.max_num_edges_mesh = max_num_edges_mesh\n",
        "    self.edge_list = []\n",
        "  \n",
        "  def add_edge(self, v1, v2, p1, p2):\n",
        "    assert(len(self.edge_list) < self.max_num_edges_mesh)\n",
        "    self.edge_list.append([v1, v2, p1, p2])    \n",
        "\n",
        "\n",
        "class PointersToEdgeListRepresentationPolygon(object):\n",
        "  def __init__(self, max_edges_per_polygon):\n",
        "    self.edge_list = []\n",
        "    self.max_edges_per_polygon = max_edges_per_polygon\n",
        "\n",
        "  def add_edge(self, edge_id):    \n",
        "    assert(len(self.edge_list) < self.max_num_edges_polygon)\n",
        "    edge_list.append(edge_id) # notice only the index into global edge-list!!\n",
        "\n",
        "if __def__ == '__main__':\n",
        "  mesh_size = 100 # polygon count\n",
        "  mesh = Mesh(mesh_size)\n",
        "\n",
        "  # create vertex list\n",
        "   None\n",
        "  # create edge list\n",
        "    None\n",
        "  # create polygon list or mesh list\n",
        "  for i in range(mesh_size):\n",
        "    None # add code for creating mesh\n",
        "\n",
        "  # check consistency    \n",
        "  #mesh.check_consistency()\n",
        "  #mesh.list_shared_edges()\n",
        "  #mesh.list_edge_count()\n",
        "  #mesh.detect_duplicate_vertices()  \n",
        "  "
      ],
      "execution_count": 0,
      "outputs": []
    }
  ]
}