{
  "nbformat": 4,
  "nbformat_minor": 0,
  "metadata": {
    "colab": {
      "name": "param_rep_intro_lec_2.ipynb",
      "provenance": [],
      "collapsed_sections": [],
      "authorship_tag": "ABX9TyOWblTxL9MtsEdKoqsJdH7/",
      "include_colab_link": true
    },
    "kernelspec": {
      "name": "python3",
      "display_name": "Python 3"
    }
  },
  "cells": [
    {
      "cell_type": "markdown",
      "metadata": {
        "id": "view-in-github",
        "colab_type": "text"
      },
      "source": [
        "<a href=\"https://colab.research.google.com/github/pranavkantgaur/curves_and_surfaces/blob/master/parametric_representations/param_rep_intro_lec_2.ipynb\" target=\"_parent\"><img src=\"https://colab.research.google.com/assets/colab-badge.svg\" alt=\"Open In Colab\"/></a>"
      ]
    },
    {
      "cell_type": "markdown",
      "metadata": {
        "id": "OlNDegH1tiWE",
        "colab_type": "text"
      },
      "source": [
        "## Objectives\n",
        "\n",
        "\n",
        "1.   Discuss limitations and merits of polygonal representation \n",
        "2.   Intro to explict and implicit representations\n",
        "3.   Discuss limitations of explict and implict representations\n",
        "3.   Intro to parametric representation:\n",
        "     * Cubic polynomial vs higher degree polynomials\n",
        "     * Mathematical representation\n",
        "4.   Introduction to the concept of _Continuity_\n",
        "\n"
      ]
    },
    {
      "cell_type": "markdown",
      "metadata": {
        "id": "eBV6-T3ctHUR",
        "colab_type": "text"
      },
      "source": [
        "## Limitations and merits of polygonal representations\n",
        "* Accuracy vs Number of vertices:\n",
        "  * Element size vs Accuracy:  \n",
        "      * https://qr.ae/T0mM5P\n",
        "  * Increase in number of elements and its effect on computation requirements:\n",
        "     * https://doc.cgal.org/latest/Mesh_3/index.html#title39\n",
        "        \n",
        "* Difficulty in local control for interactive manipulation:\n",
        "  * Moving the vertices without altering the toplogy:\n",
        "    * https://link.springer.com/chapter/10.1007/978-4-431-68093-2_29\n",
        "  * Mesh refinement, remeshing, local smoothing:\n",
        "    * https://doc.cgal.org/latest/Polygon_mesh_processing/group__PMP__meshing__grp.html#gaa091c8368920920eed87784107d68ecf\n",
        "* Ease of rendering of meshes on GPUs based on polygonal representation(especially triangle-based):\n",
        "  * Preferred for realtime graphics rendering:\n",
        "    * https://www.reddit.com/r/askscience/comments/1mqno3/why_can_gpus_only_render_polygonal_3d_forms/ccbrxju?utm_source=share&utm_medium=web2x\n"
      ]
    },
    {
      "cell_type": "markdown",
      "metadata": {
        "id": "_GhVKB9Eu7Hk",
        "colab_type": "text"
      },
      "source": [
        "# General curve representations:\n",
        "Polygonal representations are most suited for linear domains. For more realistic objects with smooth surfaces, polygonal representations are more suitable, given enough computational resources. Representations of curves are as follows:\n",
        "\n",
        "## Explicit representation:\n",
        "$y = f(x)$\n",
        "\n",
        "### Limitations:\n",
        "* How to represent objects with multiple values of $y$ for single value of $x$?\n",
        "  * Circle, Ellipse, etc, by multiple curve-patches, one per y-value?\n",
        "* Tedious interactive manipulation:\n",
        "  * How to implement the feature of interaction/editing the curve represented in explict form?\n",
        "* Not rotationally invariant:\n",
        "  * How to implement rotation of the curve in explict form?  \n",
        "* Curves with vertical tangents, infinite slope:\n",
        "  * How to represent?"
      ]
    },
    {
      "cell_type": "code",
      "metadata": {
        "id": "JpotRsJaI1eu",
        "colab_type": "code",
        "outputId": "a57e7e17-9a9d-4f6e-e62d-e2d611447dcb",
        "colab": {
          "base_uri": "https://localhost:8080/",
          "height": 295
        }
      },
      "source": [
        "import matplotlib.pyplot as plt # for drawing 2D curves\n",
        "\n",
        "# Example of explicit representation\n",
        "# a straight line\n",
        "class ExplicitLineRepresentation(object):\n",
        "  def __init__(self, m, c): # y = mx + c\n",
        "    self.m = m\n",
        "    self.c = c\n",
        "  def generate_points_on_representation(self, x):    \n",
        "    y = self.m * x + self.c\n",
        "    return y\n",
        "\n",
        "if __name__ == '__main__' :    \n",
        "  line = ExplicitLineRepresentation(0.3, 2)\n",
        "  # generate list of (x, y)\n",
        "  n_points = 100\n",
        "  x = []\n",
        "  y = []\n",
        "  for i in range(n_points):\n",
        "    y.append(line.generate_points_on_representation(i))\n",
        "    x.append(i)\n",
        "  plt.plot(x, y)     \n",
        "  plt.title('Explicit representation')\n",
        "  plt.ylabel('y')\n",
        "  plt.xlabel('x')\n",
        "  plt.show() "
      ],
      "execution_count": 0,
      "outputs": [
        {
          "output_type": "display_data",
          "data": {
            "image/png": "[encoded data removed]",
            "text/plain": [
              "<Figure size 432x288 with 1 Axes>"
            ]
          },
          "metadata": {
            "tags": []
          }
        }
      ]
    },
    {
      "cell_type": "code",
      "metadata": {
        "id": "fHvWVkOIMDGR",
        "colab_type": "code",
        "outputId": "605a9375-bb6f-441e-8e31-49c3da38226a",
        "colab": {
          "base_uri": "https://localhost:8080/",
          "height": 295
        }
      },
      "source": [
        "import math \n",
        "from numpy import arange\n",
        "\n",
        "class ExplicitCircleRepresentation(object):\n",
        "  def __init__(self, r, x, y):\n",
        "    self.r  = r\n",
        "    self.x = x\n",
        "    self.y = y\n",
        "\n",
        "  def getx(self):\n",
        "    return self.x\n",
        "\n",
        "  def getr(self):    \n",
        "    return self.r\n",
        "  \n",
        "  def generate_points_on_representation(self, x):    \n",
        "    assert(pow(self.r, 2) - pow(x - self.x, 2) >= 0) # avoid -ve in sqrt\n",
        "    y = math.sqrt(pow(self.r, 2) - pow(x - self.x, 2)) + self.y # note only one value of y can be represented!!\n",
        "    return y  \n",
        "\n",
        "if __name__ == '__main__' :    \n",
        "  circle = ExplicitCircleRepresentation(5.0, 1.0, 1.0)\n",
        "  # generate list of (x, y)\n",
        "  n_points = 1000\n",
        "  x = [t * (circle.getx() - circle.getr()) + (1 - t) * (circle.getx() \n",
        "      + circle.getr()) for t in arange(0, 1, 1 / n_points)] # note the parametric representation!!\n",
        "  y = []\n",
        "  for i in x:\n",
        "    y.append(circle.generate_points_on_representation(i))\n",
        "  \n",
        "  plt.plot(x, y)     \n",
        "  plt.title('Explicit representation, cannot draw the lower half :(')\n",
        "  plt.ylabel('y')\n",
        "  plt.xlabel('x')\n",
        "  plt.show()   "
      ],
      "execution_count": 0,
      "outputs": [
        {
          "output_type": "display_data",
          "data": {
            "image/png": "[encoded data removed]",
            "text/plain": [
              "<Figure size 432x288 with 1 Axes>"
            ]
          },
          "metadata": {
            "tags": []
          }
        }
      ]
    },
    {
      "cell_type": "markdown",
      "metadata": {
        "id": "YEwL3HFlJA2L",
        "colab_type": "text"
      },
      "source": [
        "### Test your understanding:\n",
        "\n",
        "1.   List curves which can easily be represented using _explict_ representation.\n",
        "2.   Pseudocode of an algorithm to rotate curve implemented under _explict_ representation.\n"
      ]
    },
    {
      "cell_type": "code",
      "metadata": {
        "id": "sOqIsNZFJsnt",
        "colab_type": "code",
        "colab": {}
      },
      "source": [
        "# Pseudocode for curve rotation"
      ],
      "execution_count": 0,
      "outputs": []
    },
    {
      "cell_type": "markdown",
      "metadata": {
        "id": "-BEg7ZtxJwXd",
        "colab_type": "text"
      },
      "source": [
        "## Implicit representation\n",
        "$f(x, y, z) = 0$\n",
        "### Overview:\n",
        "  * Similar computation process for coordinates as that in explicit curves.\n",
        "  * Can be used to represent iso-surfaces. For instance, $f(x, y, z) = k$ implies level-$k$ for the curve. Represents set of all points $(x, y, z)$, which result in the value $k$ for the curve.\n",
        "  * Examples:\n",
        "    * https://github.com/mmolero/pypoisson \n",
        "      * Internally maintains a implicit function representation of input data (and associated normals) and returns samples of that function in form of vertices and faces(polygons).\n",
        "    * http://hhoppe.com/poissonrecon.pdf\n",
        "      * Figure 1, check the indicator function.  \n",
        "\n",
        "### Limitations:\n",
        "  * May have more solutions than required. For instance, how to represent a half-circle?\n",
        "     * $x^2 + y^2 - 1 = 0, x \\geq 0$\n",
        "  * For two joined curved segments, it may be difficult to determine whether their tangent directions agree at their joint point:(**IMPORTANT FOR SMOOTHNESS OF CURVES**)\n",
        "     * Let, $f(x, y, z) = 0$ and $g(x, y, z) = 0$:\n",
        "       *  How to define their joint points? Are they the intersection points/lines?\n",
        "       *  How to define tangent at those joint points?"
      ]
    },
    {
      "cell_type": "code",
      "metadata": {
        "id": "6g0A07JXI5Di",
        "colab_type": "code",
        "colab": {}
      },
      "source": [
        "# Example of implicit representation\n",
        "# y - mx - c = 0\n",
        "# ax + by + cz + d = 0\n",
        "class ImplicitLineRepresentation(object):\n",
        "  def __init__(self):\n",
        "    None\n",
        "  def extract_contour(self, k):    \n",
        "    '''\n",
        "    Returns set of points with level-k\n",
        "    '''\n",
        "    None \n",
        "  def compute_normal(self, x1, y1):\n",
        "    '''\n",
        "    computes normal at point (x1, y1)\n",
        "    '''    "
      ],
      "execution_count": 0,
      "outputs": []
    },
    {
      "cell_type": "markdown",
      "metadata": {
        "id": "Rxl3hxg5ureR",
        "colab_type": "text"
      },
      "source": [
        "## Merits for explicit and implicit representations\n",
        "* Easy to perform _point inside/outside_ tests:(**Clipping, etc.**)\n",
        "  * Algorithm?\n",
        "    * Explicit:\n",
        "      * If $y_1 - f(x_1) \\neq 0$ then the point $(x_1, y_1)$ does not lie on the surface:\n",
        "        * https://doubleroot.in/lessons/straight-line/position-of-a-point-relative-to-a-line/\n",
        "      * Based on the concept of normals:\n",
        "        * https://math.stackexchange.com/a/274728/153195\n",
        "    * Implicit:\n",
        "      * For instance, the Indicator function in Poisson surface reconstruction algorithm.\n",
        "* Normal computation is easier:(**Visibility test**)\n",
        "  * Algorithm?\n",
        "    * Explicit:\n",
        "      * https://math.stackexchange.com/a/274728/153195:\n",
        "        * vector formulation  \n",
        "    * Implicit:\n",
        "      * https://en.wikipedia.org/wiki/Implicit_curve#Tangent_and_normal_vector\n",
        "\n",
        "### Test your understanding:\n",
        "1. Algorithm to perform inside/outside test on explicit representation of $y = x^2$ and $x^2 + y^2 = 1$\n",
        "2. Algorithm to compute normal on $y = x^2$ and $x^2 + y^2 = 1$?\n",
        "3. Same as above on implicit representation."
      ]
    },
    {
      "cell_type": "markdown",
      "metadata": {
        "id": "7oiTrtSpvcl4",
        "colab_type": "text"
      },
      "source": [
        "# Parametric representation\n",
        "\\begin{equation*}\n",
        "x = x(t)  \\\\\n",
        "y = y(t) \\\\\n",
        "z = z(t)\n",
        "\\end{equation*}\n",
        "where, $0 \\leq t \\leq 1$\n",
        "\n",
        "### Merits of parametric representations\n",
        "\n",
        "\n",
        "*   Parametric slope is never infinite: \n",
        "    * $dy / dt$ is never infinite, even if $dy/dx$ is. Check vertical straight-line example.\n",
        "*   Can easily represent multiple values of $y$ for single value of $x$.\n",
        "    * Multiple $y$ may map to single $x$, since both vary independently along $t$.   \n",
        "    * Check case of circle:\n",
        "      * Both points with same $x$ and different $y$ will have different values of $t$, therefore can co-exist in same parametric representation.\n",
        "      * $x(t) = rcos(t) + h, y(t) = rsin(t) + k$, where $r$ is radius and $(h,k)$ is the center."
      ]
    },
    {
      "cell_type": "code",
      "metadata": {
        "id": "YnjFGIJxI9el",
        "colab_type": "code",
        "outputId": "71a00f5f-d18e-45e3-ab48-51406dc4a64e",
        "colab": {
          "base_uri": "https://localhost:8080/",
          "height": 295
        }
      },
      "source": [
        "# Example of parametric representation\n",
        "class ParametricLineRepresentation(object):\n",
        "  def __init__(self, p1, p2):\n",
        "    self.p1 = p1\n",
        "    self.p2 = p2\n",
        "  def generate_points_on_representation(self, t): # Notice the parameter 't'\n",
        "    assert(0 <= t and t <= 1)\n",
        "    p = self.p1 *(1 - t) + self.p2 * (t) # parametric representation of line.\n",
        "    return p\n",
        " \n",
        "if __name__ == '__main__' :    \n",
        "  line = ParametricLineRepresentation(2, 5)\n",
        "  # generate list of (x, y)\n",
        "  n_points = 1000\n",
        "  x = [t for t in arange(0, 1, 1 / n_points)] # note the parametric representation!!\n",
        "  y = []\n",
        "  for i in x:\n",
        "    y.append(line.generate_points_on_representation(i))  \n",
        "  plt.plot(x, y)     \n",
        "  plt.title('Parametric representation')\n",
        "  plt.ylabel('y')\n",
        "  plt.xlabel('t')\n",
        "  plt.show()      "
      ],
      "execution_count": 0,
      "outputs": [
        {
          "output_type": "display_data",
          "data": {
            "image/png": "[encoded data removed]",
            "text/plain": [
              "<Figure size 432x288 with 1 Axes>"
            ]
          },
          "metadata": {
            "tags": []
          }
        }
      ]
    },
    {
      "cell_type": "markdown",
      "metadata": {
        "id": "3dYDJieIysdL",
        "colab_type": "text"
      },
      "source": [
        "## Cubic polynomials vs higher degree polynomials\n",
        "* Lower than cubic:\n",
        "  * Too little flexibility in controlling shape:\n",
        "  \\begin{equation*}\n",
        "  Q(t) = [x(t),  y(t),  z(t)] \\\\\n",
        "  x(t) = a_{x}t^2 + b_{x}t + c_x\\\\\n",
        "  y(t) = a_{y}t^2 + b_{y}t + c_y\\\\\n",
        "  z(t) = a_{z}t^2 + b_{z}t + c_z\n",
        "\\end{equation*}\n",
        "  * Easier to compute:\n",
        "    * Lower number of unknowns than cubic polynomials(9 vs 12)\n",
        "* Higher than cubic:\n",
        "  * Too computationally expensive(more than 12 unknowns)\n",
        "  * Unwanted wiggles (due to non-linearity)\n",
        "* Cubic:\n",
        "  * Least degree to specify endpoints and tangent vectors, 4 coefficients.\n",
        "\n",
        "### Cubic polynomial representation \n",
        "\\begin{equation*}\n",
        "  Q(t) = [x(t),  y(t),  z(t)] \\\\\n",
        "  x(t) = a_{x}t^3 + b_{x}t^2 + c_{x}t + d_x\\\\\n",
        "  y(t) = a_{y}t^3 + b_{y}t^2 + c_{y}t + d_y\\\\\n",
        "  z(t) = a_{z}t^3 + b_{z}t^2 + c_{z}t + d_z\n",
        "\\end{equation*}\n",
        "\n",
        "\\begin{equation*}\n",
        "  Q(t) = T.C \\\\\n",
        "T = \n",
        "\\begin{bmatrix}\n",
        "   t^{3} & t^{2} & t^{1} & 1\n",
        "\\end{bmatrix}  \\\\\n",
        "C = \n",
        "\\begin{bmatrix}\n",
        "  a_{x} & a_{y} & a_{z}  \\\\\n",
        "      b_{x} & b_{y} & b_{z}  \\\\\n",
        "      c_{x} & c_{y} & c_{z} \\\\\n",
        "      d_{x} & d_{y} & d_{z} \n",
        "\\end{bmatrix}\n",
        "\\end{equation*}\n",
        "\n",
        "### A demo:\n",
        "* https://www.desmos.com/calculator/ulvko52x7j\n",
        "* Implcit curves:\n",
        "  * https://www.geogebra.org/m/YBkweXKm\n",
        "* Parameteric representation of 3D curves:\n",
        "  * https://www.geogebra.org/m/D6yBZNNB  \n",
        "  * https://www.geogebra.org/m/EPypmb4f\n"
      ]
    },
    {
      "cell_type": "code",
      "metadata": {
        "id": "-1qqsGWlx3Ah",
        "colab_type": "code",
        "outputId": "e76e14d4-1c27-437d-bda2-f61d93e0908e",
        "colab": {
          "base_uri": "https://localhost:8080/",
          "height": 851
        }
      },
      "source": [
        "class CubicPolynomialParametericRepresentation(object):\n",
        "  def __init__(self, coff_matrix):\n",
        "    self.c = coff_matrix            \n",
        "\n",
        "  def generate_points_on_representation(self, t): # non-vectorized implementation\n",
        "    \n",
        "    x = self.c[0, 0] * pow(t, 3) + self.c[1, 0] * pow(t, 2) + self.c[2,0] * pow() + self.c[3,0]\n",
        "    y = self.c[0, 1] * pow(t, 3) + self.c[1, 1] * pow(t, 2) + self.c[2,1] * pow() + self.c[3,1]\n",
        "    z = self.c[0, 2] * pow(t, 3) + self.c[1, 2] * pow(t, 2) + self.c[2,2] * pow() + self.c[3,2]        \n",
        "    return x, y, z\n",
        "\n",
        "  def generate_points_on_representation_vectorized(self, t):\n",
        "    \n",
        "    t_vector = np.array([pow(t, 3), pow(t, 2), pow(t, 1), 1])\n",
        "    q = np.dot(t_vector, self.c)\n",
        "    return q # 1 X 3 vector\n",
        "\n",
        "if __name__ == '__main__' :    \n",
        "  \n",
        "  coff_matrix = np.array([[3, 2, 5],[5, 7, 9],[10, 11, 2], [2, 5, 1]])\n",
        "  curve = CubicPolynomialParametericRepresentation(coff_matrix)\n",
        "  # generate list of (x, y)  \n",
        "  n_points = 1000\n",
        "  x = [t for t in arange(0, 1, 1 / n_points)] \n",
        "  y = []\n",
        "  for i in x:\n",
        "    y.append(curve.generate_points_on_representation_vectorized(i))  \n",
        "  \n",
        "  xt = [y[i][0]  for i in range(n_points)]\n",
        "  yt = [y[i][1]  for i in range(n_points)]\n",
        "  zt = [y[i][2]  for i in range(n_points)]\n",
        "  \n",
        "  plt.plot(x, xt)  # xt   \n",
        "  plt.title('Parametric representation, x vs t')\n",
        "  plt.ylabel('x')\n",
        "  plt.xlabel('t')\n",
        "  plt.show()  \n",
        "\n",
        "  plt.plot(x, yt)  # yt   \n",
        "  plt.title('Parametric representation, y vs t')\n",
        "  plt.ylabel('y')\n",
        "  plt.xlabel('t')\n",
        "  plt.show()   \n",
        "\n",
        "  plt.plot(x, zt)  # zt   \n",
        "  plt.title('Parametric representation, z vs t')\n",
        "  plt.ylabel('z')\n",
        "  plt.xlabel('t')\n",
        "  plt.show()     \n"
      ],
      "execution_count": 0,
      "outputs": [
        {
          "output_type": "display_data",
          "data": {
            "image/png": "[encoded data removed]",
            "text/plain": [
              "<Figure size 432x288 with 1 Axes>"
            ]
          },
          "metadata": {
            "tags": []
          }
        },
        {
          "output_type": "display_data",
          "data": {
            "image/png": "[encoded data removed]",
            "text/plain": [
              "<Figure size 432x288 with 1 Axes>"
            ]
          },
          "metadata": {
            "tags": []
          }
        },
        {
          "output_type": "display_data",
          "data": {
            "image/png": "[encoded data removed]",
            "text/plain": [
              "<Figure size 432x288 with 1 Axes>"
            ]
          },
          "metadata": {
            "tags": []
          }
        }
      ]
    },
    {
      "cell_type": "markdown",
      "metadata": {
        "id": "lCrGlAGD1njR",
        "colab_type": "text"
      },
      "source": [
        "### Test your understanding\n",
        "\n",
        "\n",
        "1.   WAP to generate curves for parametric representation of:\n",
        "     * Straight line\n",
        "     * Circle\n",
        "     * Ellipse\n"
      ]
    },
    {
      "cell_type": "markdown",
      "metadata": {
        "id": "j0NRchs22mCx",
        "colab_type": "text"
      },
      "source": [
        "### Tangent vector, $Q^{'}(t)$\n",
        "Represents the parametric (as opposed to _geometric_) slope:\n",
        "\\begin{equation*}\n",
        "  Q'(t) = [x'(t),  y'(t),  z'(t)] \\\\\n",
        "  x'(t) = 3a_{x}t^2 + 2b_{x}t + c_{x}\\\\\n",
        "  y'(t) = 3a_{y}t^2 + 2b_{y}t + c_{y}\\\\\n",
        "  z'(t) = 3a_{z}t^2 + 2b_{z}t + c_{z}\n",
        "\\end{equation*}\n",
        "\n",
        "* Demo:\n",
        "  * https://www.geogebra.org/m/uTh6gAh2"
      ]
    },
    {
      "cell_type": "code",
      "metadata": {
        "id": "CcKDDWI29NYC",
        "colab_type": "code",
        "colab": {}
      },
      "source": [
        "# Implement derivative curves for the input parametric curve."
      ],
      "execution_count": 0,
      "outputs": []
    },
    {
      "cell_type": "markdown",
      "metadata": {
        "id": "00nG1Hpe28zl",
        "colab_type": "text"
      },
      "source": [
        "## Continuity, a measure of smoothness for curves\n",
        "Intention is to create _realistic_ smooth shapes. The concept of _Continuity_ represents the notion smoothness in parametric curves. Instead of a single smooth curve, realism is often achived using _piecewise_ smooth curves or curve segments. \n",
        "\n",
        "*   Geometric: (Viewing curve purely as a shape)\n",
        "    * Usually defined in terms of parameterization, but the choice of parameterization does not affect the outcome.\n",
        "      * If a shape is represented using parameteric representations $P_1$ and $P_2$ then the if it is $G_1$ continuous in $P_1$ then it will also be the same in $P_2$.\n",
        "    * $G^0$: Endpoints match\n",
        "    * $G^1$: Slope of curves match in direction, not neccasarily the magnitude:\n",
        "      * $TK_1 = \\alpha TK_2$\n",
        "    * $G^2$: Curvature of curves match\n",
        "*   Parametric: (Viewing curve as a function)\n",
        "    * Cannot be defined by the shape of the curve alone, it requires parameterization of the curve.\n",
        "      * We cannot define parametric continuity of an explict or an implicit curve. But geometric continuity of an explict or implicit representation of a curve is a valid concept.\n",
        "    * $C^0, C^1, C^2$ \n",
        "      * d${Q_{1}^n} / dt^n = d{Q_{2}^n} / dt^n$ for $C^n$.\n",
        "*   There are C1 curves that are not G1:\n",
        "     * **EXPLAIN, YOUR assignment!!**\n",
        "     \n",
        "\n"
      ]
    },
    {
      "cell_type": "markdown",
      "metadata": {
        "id": "ucQyJcmS-xIb",
        "colab_type": "text"
      },
      "source": [
        "## An example of discontinuity"
      ]
    },
    {
      "cell_type": "code",
      "metadata": {
        "id": "EO0XNPKL-p2C",
        "colab_type": "code",
        "outputId": "d095d0d8-6bb4-427a-d336-2b3e30248542",
        "colab": {
          "base_uri": "https://localhost:8080/",
          "height": 295
        }
      },
      "source": [
        "  coff_matrix1 = np.array([[3, 2, 5],[5, 7, 9],[10, 11, 2], [2, 5, 1]])\n",
        "  curve1 = CubicPolynomialParametericRepresentation(coff_matrix1)\n",
        "  coff_matrix2 = np.array([[3.9, 2.9, 5.9],[5.9, 7.9, 9.9],[10.9, 11.9, 2.9], [2.9, 5.9, 1.9]])\n",
        "  curve2 = CubicPolynomialParametericRepresentation(coff_matrix2)\n",
        "  # generate list of (x, y)  \n",
        "  n_points = 1000\n",
        "  x1 = [t for t in arange(0, 1, 1 / n_points)] \n",
        "  y1 = []\n",
        "  x2 = [t for t in arange(1, 2, 1 / n_points)] \n",
        "  y2 = []\n",
        "  for i in x1:\n",
        "    y1.append(curve1.generate_points_on_representation_vectorized(i))  \n",
        "  for i in x2:\n",
        "    y2.append(curve2.generate_points_on_representation_vectorized(i))      \n",
        "  \n",
        "  xt1 = [y1[i][0]  for i in range(n_points)]\n",
        "  xt2 = [y2[i][0]  for i in range(n_points)]\n",
        "  \n",
        "  \n",
        "  plt.plot(x1, xt1)  # xt   \n",
        "  plt.plot(x2, xt2)  # xt   \n",
        "  plt.title('Parametric continuity, x vs t')\n",
        "  plt.ylabel('x')\n",
        "  plt.xlabel('t')\n",
        "  plt.show()  \n"
      ],
      "execution_count": 0,
      "outputs": [
        {
          "output_type": "display_data",
          "data": {
            "image/png": "[encoded data removed]",
            "text/plain": [
              "<Figure size 432x288 with 1 Axes>"
            ]
          },
          "metadata": {
            "tags": []
          }
        }
      ]
    },
    {
      "cell_type": "markdown",
      "metadata": {
        "id": "MAKK2tCp3Vx1",
        "colab_type": "text"
      },
      "source": [
        "### Test your understanding:\n",
        "\n",
        "\n",
        "*   Plot (first and second) gradients of a cubic polynomial curves.\n",
        "*   WAP to implement a continuity estimator, given constraint matrices, $C$ as input.\n",
        "*   Examples where $C^1$ does not imply $G^1$. **Bonus point if you can clearly explain it to me.**\n",
        "\n"
      ]
    },
    {
      "cell_type": "code",
      "metadata": {
        "id": "vzaSNH3OJB8j",
        "colab_type": "code",
        "colab": {}
      },
      "source": [
        "# Example code to test continuity of input (parametric) curves\n",
        "def determine_curve_continuity(coff_matrix1, coff_matrix2):\n",
        "  '''\n",
        "  parameteric:\n",
        "    compute derivative from 0 to 2 of the input curve segments\n",
        "    if values of the derivatives match at connecting points, set C[i] = 1\n",
        "    else, exit\n",
        "  geometric:\n",
        "        \n",
        "  '''\n",
        "  None\n",
        "\n",
        "c = determine_curve_continuity(coff_matrix1, coff_matrix2)\n",
        "\n",
        "if (c == 0):\n",
        "  print(\"Curves segments are not continous at boundary!!\")\n",
        "else:  \n",
        "  for i in range(c.shape[0], 0, -1):\n",
        "    if c[i] == 1:\n",
        "      print(\"The curve segments have: C\", i, \"continuity!!\")\n",
        "    else:\n",
        "      continue        "
      ],
      "execution_count": 0,
      "outputs": []
    }
  ]
}