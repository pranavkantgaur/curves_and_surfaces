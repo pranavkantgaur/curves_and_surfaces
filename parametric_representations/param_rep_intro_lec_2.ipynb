{
  "nbformat": 4,
  "nbformat_minor": 0,
  "metadata": {
    "colab": {
      "name": "param_rep_intro_lec_2.ipynb",
      "provenance": [],
      "collapsed_sections": [],
      "authorship_tag": "ABX9TyPrTacDF/17Hf5988vVzlw8",
      "include_colab_link": true
    },
    "kernelspec": {
      "name": "python3",
      "display_name": "Python 3"
    }
  },
  "cells": [
    {
      "cell_type": "markdown",
      "metadata": {
        "id": "view-in-github",
        "colab_type": "text"
      },
      "source": [
        "<a href=\"https://colab.research.google.com/github/pranavkantgaur/curves_and_surfaces/blob/master/parametric_representations/param_rep_intro_lec_2.ipynb\" target=\"_parent\"><img src=\"https://colab.research.google.com/assets/colab-badge.svg\" alt=\"Open In Colab\"/></a>"
      ]
    },
    {
      "cell_type": "markdown",
      "metadata": {
        "id": "OlNDegH1tiWE",
        "colab_type": "text"
      },
      "source": [
        "## Objectives\n",
        "\n",
        "\n",
        "1.   Discuss limitations of polygonal representation \n",
        "2.   Limitations of exolict and implicit representations\n",
        "3.   Intro to parametric representation:\n",
        "     * Cubic polynomial vs higher degree polynomials\n",
        "     * Mathematical representation\n",
        "4.   Introduction to the concept of _Continuity_\n",
        "\n"
      ]
    },
    {
      "cell_type": "markdown",
      "metadata": {
        "id": "eBV6-T3ctHUR",
        "colab_type": "text"
      },
      "source": [
        "## Limitations of polygonal representations\n",
        "* Accuracy vs Number of vertices\n",
        "* Difficulty in local control for interactive manipulation\n"
      ]
    },
    {
      "cell_type": "markdown",
      "metadata": {
        "id": "_GhVKB9Eu7Hk",
        "colab_type": "text"
      },
      "source": [
        "## Explicit representation:\n",
        "$y = f(x), z = g(x)$\n",
        "* How to represent multiple values of $y$ for single value of $x$?\n",
        "  * Circle, Ellipse, etc, by multiple curve-patches?\n",
        "* Tedious interactive manipulation\n",
        "* Not rotationally invariant, requires breaking curve before rotating\n",
        "* Curves with vertical tangents, infinite slope. How to represent?"
      ]
    },
    {
      "cell_type": "code",
      "metadata": {
        "id": "JpotRsJaI1eu",
        "colab_type": "code",
        "colab": {
          "base_uri": "https://localhost:8080/",
          "height": 295
        },
        "outputId": "58b39303-3aa7-4783-e2e7-6c25ee75c5a5"
      },
      "source": [
        "import matplotlib.pyplot as plt # for drawing 2D curves\n",
        "\n",
        "# Example of explicit representation\n",
        "# a straight line\n",
        "class ExplicitLineRepresentation(object):\n",
        "  def __init__(self, m, c): # y = mx + c\n",
        "    self.m = m\n",
        "    self.c = c\n",
        "  def generate_points_on_representation(self, x):    \n",
        "    y = self.m * x + self.c\n",
        "    return y\n",
        "\n",
        "if __name__ == '__main__' :    \n",
        "  line = ExplicitLineRepresentation(0.3, 2)\n",
        "  # generate list of (x, y)\n",
        "  n_points = 100\n",
        "  x = []\n",
        "  y = []\n",
        "  for i in range(n_points):\n",
        "    y.append(line.generate_points_on_representation(i))\n",
        "    x.append(i)\n",
        "  plt.plot(x, y)     \n",
        "  plt.title('Explicit representation')\n",
        "  plt.ylabel('y')\n",
        "  plt.xlabel('x')\n",
        "  plt.show() "
      ],
      "execution_count": 8,
      "outputs": [
        {
          "output_type": "display_data",
          "data": {
            "image/png": "[encoded data removed]",
            "text/plain": [
              "<Figure size 432x288 with 1 Axes>"
            ]
          },
          "metadata": {
            "tags": []
          }
        }
      ]
    },
    {
      "cell_type": "code",
      "metadata": {
        "id": "fHvWVkOIMDGR",
        "colab_type": "code",
        "colab": {
          "base_uri": "https://localhost:8080/",
          "height": 295
        },
        "outputId": "81ae2359-38db-4d20-c96c-9888af7cbabb"
      },
      "source": [
        "import math \n",
        "from numpy import arange\n",
        "\n",
        "class ExplicitCircleRepresentation(object):\n",
        "  def __init__(self, r, x, y):\n",
        "    self.r  = r\n",
        "    self.x = x\n",
        "    self.y = y\n",
        "\n",
        "  def getx(self):\n",
        "    return self.x\n",
        "\n",
        "  def getr(self):    \n",
        "    return self.r\n",
        "  \n",
        "  def generate_points_on_representation(self, x):    \n",
        "    assert(pow(self.r, 2) - pow(x - self.x, 2) >= 0) # avoid -ve in sqrt\n",
        "    y = math.sqrt(pow(self.r, 2) - pow(x - self.x, 2)) + self.y # note only one value of y can be represented!!\n",
        "    return y  \n",
        "\n",
        "if __name__ == '__main__' :    \n",
        "  circle = ExplicitCircleRepresentation(5.0, 1.0, 1.0)\n",
        "  # generate list of (x, y)\n",
        "  n_points = 1000\n",
        "  x = [t * (circle.getx() - circle.getr()) + (1 - t) * (circle.getx() \n",
        "      + circle.getr()) for t in arange(0, 1, 1 / n_points)] # note the parametric representation!!\n",
        "  y = []\n",
        "  for i in x:\n",
        "    y.append(circle.generate_points_on_representation(i))\n",
        "  \n",
        "  plt.plot(x, y)     \n",
        "  plt.title('Explicit representation')\n",
        "  plt.ylabel('y')\n",
        "  plt.xlabel('x')\n",
        "  plt.show()   "
      ],
      "execution_count": 23,
      "outputs": [
        {
          "output_type": "display_data",
          "data": {
            "image/png": "[encoded data removed]",
            "text/plain": [
              "<Figure size 432x288 with 1 Axes>"
            ]
          },
          "metadata": {
            "tags": []
          }
        }
      ]
    },
    {
      "cell_type": "markdown",
      "metadata": {
        "id": "YEwL3HFlJA2L",
        "colab_type": "text"
      },
      "source": [
        "### Test your understanding:\n",
        "\n",
        "1.   List curves which can easily be represented using _explict_ representation.\n",
        "2.   Pseudocode of an algorithm to rotate curve implemented under _explict_ representation.\n"
      ]
    },
    {
      "cell_type": "code",
      "metadata": {
        "id": "sOqIsNZFJsnt",
        "colab_type": "code",
        "colab": {}
      },
      "source": [
        "# Pseudocode for curve rotation"
      ],
      "execution_count": 0,
      "outputs": []
    },
    {
      "cell_type": "markdown",
      "metadata": {
        "id": "-BEg7ZtxJwXd",
        "colab_type": "text"
      },
      "source": [
        "## Implicit representation\n",
        "$f(x, y, z) = 0$\n",
        "* May have more solutions than required. For instance, how to represent a half-circle?\n",
        "  * $x^2 + y^2 = 1, x \\geq 0$\n",
        "* For two joined curved segments, it may be difficult to determine whether their tangent directions agree at their joint point. **UNDERSTOOD??, me neither :)**  "
      ]
    },
    {
      "cell_type": "code",
      "metadata": {
        "id": "6g0A07JXI5Di",
        "colab_type": "code",
        "colab": {}
      },
      "source": [
        "# Example of implicit representation\n",
        "class ImplicitLineRepresentation(object):"
      ],
      "execution_count": 0,
      "outputs": []
    },
    {
      "cell_type": "markdown",
      "metadata": {
        "id": "Rxl3hxg5ureR",
        "colab_type": "text"
      },
      "source": [
        "## Merits for explicit and implicit representations\n",
        "* Easy to perform _point inside/outside_ tests.\n",
        "* Normal computation is easier\n",
        "\n",
        "### Test your understanding:\n",
        "1. Algorithm to perform inside/outside test on explicit representation of $y = x^2$ and $x^2 + y^2 = 1$\n",
        "2. Algorithm to compute normal on $y = x^2$ and $x^2 + y^2 = 1$?"
      ]
    },
    {
      "cell_type": "markdown",
      "metadata": {
        "id": "7oiTrtSpvcl4",
        "colab_type": "text"
      },
      "source": [
        "# Parameteric representation\n",
        "\\begin{equation*}\n",
        "x = x(t)  \\\\\n",
        "y = y(t) \\\\\n",
        "z = z(t)\n",
        "\\end{equation*}\n",
        "where, $0 \\leq t \\leq 1$\n",
        "\n",
        "### Cubic polynomials vs higher degree polynomials\n",
        "* Lower than cubic:\n",
        "  * Too little flexibility in controlling shape\n",
        "  * Easier to compute\n",
        "* Higher than cubic:\n",
        "  * Too computationally expensive\n",
        "  * Unwanted wiggles\n",
        "* Cubic:\n",
        "  * Least degree to specify endpoints and tangent vectors, 4 coefficients.\n",
        "\n",
        "### Merits of parameteric representations\n",
        "\n",
        "\n",
        "*   Parameteric slope is never infinite.\n",
        "*   Can easily represent multiple values of $y$ for single value of $x$.\n"
      ]
    },
    {
      "cell_type": "markdown",
      "metadata": {
        "id": "3dYDJieIysdL",
        "colab_type": "text"
      },
      "source": [
        "## Cubic polynomial representation \n",
        "\\begin{equation*}\n",
        "  Q(t) = [x(t),  y(t),  z(t)] \\\\\n",
        "  x(t) = a_{x}t^3 + b_{x}t^2 + c_{x}t + d_x\\\\\n",
        "  y(t) = a_{y}t^3 + b_{y}t^2 + c_{y}t + d_y\\\\\n",
        "  z(t) = a_{z}t^3 + b_{z}t^2 + c_{z}t + d_z\n",
        "\\end{equation*}\n",
        "\n",
        "\\begin{equation*}\n",
        "  Q(t) = T.C \\\\\n",
        "T = \n",
        "\\begin{bmatrix}\n",
        "   t^{3} & t^{2} & t^{1} & 1\n",
        "\\end{bmatrix}  \\\\\n",
        "C = \n",
        "\\begin{bmatrix}\n",
        "  a_{x} & a_{y} & a_{z}  \\\\\n",
        "      b_{x} & b_{y} & b_{z}  \\\\\n",
        "      c_{x} & c_{y} & c_{z} \\\\\n",
        "      d_{x} & d_{y} & d_{z} \n",
        "\\end{bmatrix}\n",
        "\\end{equation*}\n"
      ]
    },
    {
      "cell_type": "code",
      "metadata": {
        "id": "YnjFGIJxI9el",
        "colab_type": "code",
        "colab": {}
      },
      "source": [
        "# Example of parametric representation"
      ],
      "execution_count": 0,
      "outputs": []
    },
    {
      "cell_type": "markdown",
      "metadata": {
        "id": "lCrGlAGD1njR",
        "colab_type": "text"
      },
      "source": [
        "### Test your understanding\n",
        "\n",
        "\n",
        "1.   WAP to generate curves for parametric representation of:\n",
        "     * Straight line\n",
        "     * Circle\n",
        "     * Ellipse\n"
      ]
    },
    {
      "cell_type": "markdown",
      "metadata": {
        "id": "j0NRchs22mCx",
        "colab_type": "text"
      },
      "source": [
        "### Tangent vector, $Q^{'}(t)$\n",
        "Represents the parametric (as opposed to _geometric_) slope. **REFER NOTES FOR EQUATIONS**"
      ]
    },
    {
      "cell_type": "markdown",
      "metadata": {
        "id": "00nG1Hpe28zl",
        "colab_type": "text"
      },
      "source": [
        "## Continuity, a measure of smoothness for curves\n",
        "\n",
        "\n",
        "*   Geometric: \n",
        "*   Parameteric\n",
        "\n"
      ]
    },
    {
      "cell_type": "code",
      "metadata": {
        "id": "vzaSNH3OJB8j",
        "colab_type": "code",
        "colab": {}
      },
      "source": [
        "# Example code to test continuity of input (parametric) curves"
      ],
      "execution_count": 0,
      "outputs": []
    },
    {
      "cell_type": "markdown",
      "metadata": {
        "id": "MAKK2tCp3Vx1",
        "colab_type": "text"
      },
      "source": [
        "### Test your understanding:\n",
        "\n",
        "\n",
        "*   Plot (first and second) gradients of a cubic polynomial curves.\n",
        "*   WAP to implement a continuity estimator, given constraint matrices, $C$ as input.\n",
        "*   Examples where $C^1$ does not imply $G^1$.\n",
        "\n"
      ]
    },
    {
      "cell_type": "code",
      "metadata": {
        "id": "UTLR_rB2H1Dc",
        "colab_type": "code",
        "colab": {}
      },
      "source": [
        "\n",
        "import numpy as np # for linear algebra"
      ],
      "execution_count": 0,
      "outputs": []
    }
  ]
}