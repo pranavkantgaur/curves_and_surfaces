{
  "nbformat": 4,
  "nbformat_minor": 0,
  "metadata": {
    "colab": {
      "name": "param_rep_intro_lec_2.ipynb",
      "provenance": [],
      "collapsed_sections": [],
      "authorship_tag": "ABX9TyNWLsRWjoW0AqyaC/7Ips5F",
      "include_colab_link": true
    },
    "kernelspec": {
      "name": "python3",
      "display_name": "Python 3"
    }
  },
  "cells": [
    {
      "cell_type": "markdown",
      "metadata": {
        "id": "view-in-github",
        "colab_type": "text"
      },
      "source": [
        "<a href=\"https://colab.research.google.com/github/pranavkantgaur/curves_and_surfaces/blob/master/parametric_representations/param_rep_intro_lec_2.ipynb\" target=\"_parent\"><img src=\"https://colab.research.google.com/assets/colab-badge.svg\" alt=\"Open In Colab\"/></a>"
      ]
    },
    {
      "cell_type": "markdown",
      "metadata": {
        "id": "OlNDegH1tiWE",
        "colab_type": "text"
      },
      "source": [
        "## Objectives\n",
        "\n",
        "\n",
        "1.   Discuss limitations and merits of polygonal representation \n",
        "2.   Intro to explict and implicit representations\n",
        "3.   Discuss limitations of explict and implict representations\n",
        "3.   Intro to parametric representation:\n",
        "     * Cubic polynomial vs higher degree polynomials\n",
        "     * Mathematical representation\n",
        "4.   Introduction to the concept of _Continuity_\n",
        "\n"
      ]
    },
    {
      "cell_type": "markdown",
      "metadata": {
        "id": "eBV6-T3ctHUR",
        "colab_type": "text"
      },
      "source": [
        "## Limitations and merits of polygonal representations\n",
        "* Accuracy vs Number of vertices:\n",
        "  * Element size vs Accuracy:  \n",
        "      * https://qr.ae/T0mM5P\n",
        "  * Increase in number of elements and its effect on computation requirements:\n",
        "     * https://doc.cgal.org/latest/Mesh_3/index.html#title39\n",
        "        \n",
        "* Difficulty in local control for interactive manipulation:\n",
        "  * Moving the vertices without altering the toplogy:\n",
        "    * https://link.springer.com/chapter/10.1007/978-4-431-68093-2_29\n",
        "  * Mesh refinement, remeshing, local smoothing:\n",
        "    * https://doc.cgal.org/latest/Polygon_mesh_processing/group__PMP__meshing__grp.html#gaa091c8368920920eed87784107d68ecf\n",
        "* Ease of rendering of meshes on GPUs based on polygonal representation(especially triangle-based):\n",
        "  * Preferred for realtime graphics rendering:\n",
        "    * https://www.reddit.com/r/askscience/comments/1mqno3/why_can_gpus_only_render_polygonal_3d_forms/ccbrxju?utm_source=share&utm_medium=web2x\n"
      ]
    },
    {
      "cell_type": "markdown",
      "metadata": {
        "id": "_GhVKB9Eu7Hk",
        "colab_type": "text"
      },
      "source": [
        "# General curve representations:\n",
        "Polygonal representations are most suited for linear domains. For more realistic objects with smooth surfaces, polygonal representations are more suitable, given enough computational resources. Representations of curves are as follows:\n",
        "\n",
        "## Explicit representation:\n",
        "$y = f(x)$\n",
        "\n",
        "### Limitations:\n",
        "* How to represent objects with multiple values of $y$ for single value of $x$?\n",
        "  * Circle, Ellipse, etc, by multiple curve-patches, one per y-value?\n",
        "* Tedious interactive manipulation:\n",
        "  * How to implement the feature of interaction/editing the curve represented in explict form?\n",
        "* Not rotationally invariant:\n",
        "  * How to implement rotation of the curve in explict form?  \n",
        "* Curves with vertical tangents, infinite slope:\n",
        "  * How to represent?"
      ]
    },
    {
      "cell_type": "code",
      "metadata": {
        "id": "Zb8HrUPtrQPV",
        "colab_type": "code",
        "colab": {}
      },
      "source": [
        "import matplotlib.pyplot as plt # for drawing 2D curves\n",
        "import plotly.graph_objects as go\n",
        "import math \n",
        "import numpy as np\n",
        "from numpy import arange"
      ],
      "execution_count": 0,
      "outputs": []
    },
    {
      "cell_type": "code",
      "metadata": {
        "id": "JpotRsJaI1eu",
        "colab_type": "code",
        "outputId": "a57e7e17-9a9d-4f6e-e62d-e2d611447dcb",
        "colab": {
          "base_uri": "https://localhost:8080/",
          "height": 295
        }
      },
      "source": [
        "# Example of explicit representation\n",
        "# a straight line\n",
        "class ExplicitLineRepresentation(object):\n",
        "  def __init__(self, m, c): # y = mx + c\n",
        "    self.m = m\n",
        "    self.c = c\n",
        "  def generate_points_on_representation(self, x):    \n",
        "    y = self.m * x + self.c\n",
        "    return y\n",
        "\n",
        "if __name__ == '__main__' :    \n",
        "  line = ExplicitLineRepresentation(0.3, 2)\n",
        "  # generate list of (x, y)\n",
        "  n_points = 100\n",
        "  x = []\n",
        "  y = []\n",
        "  for i in range(n_points):\n",
        "    y.append(line.generate_points_on_representation(i))\n",
        "    x.append(i)\n",
        "  plt.plot(x, y)     \n",
        "  plt.title('Explicit representation')\n",
        "  plt.ylabel('y')\n",
        "  plt.xlabel('x')\n",
        "  plt.show() "
      ],
      "execution_count": 0,
      "outputs": [
        {
          "output_type": "display_data",
          "data": {
            "image/png": "[encoded data removed]",
            "text/plain": [
              "<Figure size 432x288 with 1 Axes>"
            ]
          },
          "metadata": {
            "tags": []
          }
        }
      ]
    },
    {
      "cell_type": "code",
      "metadata": {
        "id": "fHvWVkOIMDGR",
        "colab_type": "code",
        "outputId": "605a9375-bb6f-441e-8e31-49c3da38226a",
        "colab": {
          "base_uri": "https://localhost:8080/",
          "height": 295
        }
      },
      "source": [
        "\n",
        "\n",
        "class ExplicitCircleRepresentation(object):\n",
        "  def __init__(self, r, x, y):\n",
        "    self.r  = r\n",
        "    self.x = x\n",
        "    self.y = y\n",
        "\n",
        "  def getx(self):\n",
        "    return self.x\n",
        "\n",
        "  def getr(self):    \n",
        "    return self.r\n",
        "  \n",
        "  def generate_points_on_representation(self, x):    \n",
        "    assert(pow(self.r, 2) - pow(x - self.x, 2) >= 0) # avoid -ve in sqrt\n",
        "    y = math.sqrt(pow(self.r, 2) - pow(x - self.x, 2)) + self.y # note only one value of y can be represented!!\n",
        "    return y  \n",
        "\n",
        "if __name__ == '__main__' :    \n",
        "  circle = ExplicitCircleRepresentation(5.0, 1.0, 1.0)\n",
        "  # generate list of (x, y)\n",
        "  n_points = 1000\n",
        "  x = [t * (circle.getx() - circle.getr()) + (1 - t) * (circle.getx() \n",
        "      + circle.getr()) for t in arange(0, 1, 1 / n_points)] # note the parametric representation!!\n",
        "  y = []\n",
        "  for i in x:\n",
        "    y.append(circle.generate_points_on_representation(i))\n",
        "  \n",
        "  plt.plot(x, y)     \n",
        "  plt.title('Explicit representation, cannot draw the lower half :(')\n",
        "  plt.ylabel('y')\n",
        "  plt.xlabel('x')\n",
        "  plt.show()   "
      ],
      "execution_count": 0,
      "outputs": [
        {
          "output_type": "display_data",
          "data": {
            "image/png": "[encoded data removed]",
            "text/plain": [
              "<Figure size 432x288 with 1 Axes>"
            ]
          },
          "metadata": {
            "tags": []
          }
        }
      ]
    },
    {
      "cell_type": "markdown",
      "metadata": {
        "id": "YEwL3HFlJA2L",
        "colab_type": "text"
      },
      "source": [
        "### Test your understanding:\n",
        "\n",
        "1.   List curves which can easily be represented using _explict_ representation.\n",
        "2.   Pseudocode of an algorithm to rotate curve implemented under _explict_ representation.\n"
      ]
    },
    {
      "cell_type": "code",
      "metadata": {
        "id": "sOqIsNZFJsnt",
        "colab_type": "code",
        "colab": {}
      },
      "source": [
        "# Pseudocode for curve rotation"
      ],
      "execution_count": 0,
      "outputs": []
    },
    {
      "cell_type": "markdown",
      "metadata": {
        "id": "-BEg7ZtxJwXd",
        "colab_type": "text"
      },
      "source": [
        "## Implicit representation\n",
        "$f(x, y, z) = 0$\n",
        "### Overview:\n",
        "  * Similar computation process for coordinates as that in explicit curves.\n",
        "  * Can be used to represent iso-surfaces. For instance, $f(x, y, z) = k$ implies level-$k$ for the curve. Represents set of all points $(x, y, z)$, which result in the value $k$ for the curve.\n",
        "  * Examples:\n",
        "    * https://github.com/mmolero/pypoisson \n",
        "      * Internally maintains a implicit function representation of input data (and associated normals) and returns samples of that function in form of vertices and faces(polygons).\n",
        "    * http://hhoppe.com/poissonrecon.pdf\n",
        "      * Figure 1, check the indicator function.  \n",
        "\n",
        "### Limitations:\n",
        "  * May have more solutions than required. For instance, how to represent a half-circle?\n",
        "     * $x^2 + y^2 - 1 = 0, x \\geq 0$\n",
        "  * For two joined curved segments, it may be difficult to determine whether their tangent directions agree at their joint point:(**IMPORTANT FOR SMOOTHNESS OF CURVES**)\n",
        "     * Let, $f(x, y, z) = 0$ and $g(x, y, z) = 0$:\n",
        "       *  How to define their joint points? Are they the intersection points/lines?\n",
        "       *  How to define tangent at those joint points?"
      ]
    },
    {
      "cell_type": "code",
      "metadata": {
        "id": "6g0A07JXI5Di",
        "colab_type": "code",
        "colab": {}
      },
      "source": [
        "# Example of implicit representation\n",
        "# y - mx - c = 0\n",
        "# ax + by + cz + d = 0\n",
        "class ImplicitLineRepresentation(object):\n",
        "  def __init__(self):\n",
        "    None\n",
        "  def extract_contour(self, k):    \n",
        "    '''\n",
        "    Returns set of points with level-k\n",
        "    '''\n",
        "    None \n",
        "  def compute_normal(self, x1, y1):\n",
        "    '''\n",
        "    computes normal at point (x1, y1)\n",
        "    '''    "
      ],
      "execution_count": 0,
      "outputs": []
    },
    {
      "cell_type": "markdown",
      "metadata": {
        "id": "Rxl3hxg5ureR",
        "colab_type": "text"
      },
      "source": [
        "## Merits for explicit and implicit representations\n",
        "* Easy to perform _point inside/outside_ tests:(**Clipping, etc.**)\n",
        "  * Algorithm?\n",
        "    * Explicit:\n",
        "      * If $y_1 - f(x_1) \\neq 0$ then the point $(x_1, y_1)$ does not lie on the surface:\n",
        "        * https://doubleroot.in/lessons/straight-line/position-of-a-point-relative-to-a-line/\n",
        "      * Based on the concept of normals:\n",
        "        * https://math.stackexchange.com/a/274728/153195\n",
        "    * Implicit:\n",
        "      * For instance, the Indicator function in Poisson surface reconstruction algorithm.\n",
        "* Normal computation is easier:(**Visibility test**)\n",
        "  * Algorithm?\n",
        "    * Explicit:\n",
        "      * https://math.stackexchange.com/a/274728/153195:\n",
        "        * vector formulation  \n",
        "    * Implicit:\n",
        "      * https://en.wikipedia.org/wiki/Implicit_curve#Tangent_and_normal_vector\n",
        "\n",
        "### Test your understanding:\n",
        "1. Algorithm to perform inside/outside test on explicit representation of $y = x^2$ and $x^2 + y^2 = 1$\n",
        "2. Algorithm to compute normal on $y = x^2$ and $x^2 + y^2 = 1$?\n",
        "3. Same as above on implicit representation."
      ]
    },
    {
      "cell_type": "markdown",
      "metadata": {
        "id": "7oiTrtSpvcl4",
        "colab_type": "text"
      },
      "source": [
        "# Parametric representation\n",
        "\\begin{equation*}\n",
        "x = x(t)  \\\\\n",
        "y = y(t) \\\\\n",
        "z = z(t)\n",
        "\\end{equation*}\n",
        "where, $0 \\leq t \\leq 1$\n",
        "\n",
        "### Merits of parametric representations\n",
        "\n",
        "\n",
        "*   Parametric slope is never infinite: \n",
        "    * $dy / dt$ is never infinite, even if $dy/dx$ is. Check vertical straight-line example.\n",
        "*   Can easily represent multiple values of $y$ for single value of $x$.\n",
        "    * Multiple $y$ may map to single $x$, since both vary independently along $t$.   \n",
        "    * Check case of circle:\n",
        "      * Both points with same $x$ and different $y$ will have different values of $t$, therefore can co-exist in same parametric representation.\n",
        "      * $x(t) = rcos(t) + h, y(t) = rsin(t) + k$, where $r$ is radius and $(h,k)$ is the center."
      ]
    },
    {
      "cell_type": "code",
      "metadata": {
        "id": "YnjFGIJxI9el",
        "colab_type": "code",
        "outputId": "71a00f5f-d18e-45e3-ab48-51406dc4a64e",
        "colab": {
          "base_uri": "https://localhost:8080/",
          "height": 295
        }
      },
      "source": [
        "# Example of parametric representation\n",
        "class ParametricLineRepresentation(object):\n",
        "  def __init__(self, p1, p2):\n",
        "    self.p1 = p1\n",
        "    self.p2 = p2\n",
        "  def generate_points_on_representation(self, t): # Notice the parameter 't'\n",
        "    assert(0 <= t and t <= 1)\n",
        "    p = self.p1 *(1 - t) + self.p2 * (t) # parametric representation of line.\n",
        "    return p\n",
        " \n",
        "if __name__ == '__main__' :    \n",
        "  line = ParametricLineRepresentation(2, 5)\n",
        "  # generate list of (x, y)\n",
        "  n_points = 1000\n",
        "  x = [t for t in arange(0, 1, 1 / n_points)] # note the parametric representation!!\n",
        "  y = []\n",
        "  for i in x:\n",
        "    y.append(line.generate_points_on_representation(i))  \n",
        "  plt.plot(x, y)     \n",
        "  plt.title('Parametric representation')\n",
        "  plt.ylabel('y')\n",
        "  plt.xlabel('t')\n",
        "  plt.show()      "
      ],
      "execution_count": 0,
      "outputs": [
        {
          "output_type": "display_data",
          "data": {
            "image/png": "[encoded data removed]",
            "text/plain": [
              "<Figure size 432x288 with 1 Axes>"
            ]
          },
          "metadata": {
            "tags": []
          }
        }
      ]
    },
    {
      "cell_type": "markdown",
      "metadata": {
        "id": "3dYDJieIysdL",
        "colab_type": "text"
      },
      "source": [
        "## Cubic polynomials vs higher degree polynomials\n",
        "* Lower than cubic:\n",
        "  * Too little flexibility in controlling shape:\n",
        "  \\begin{equation*}\n",
        "  Q(t) = [x(t),  y(t),  z(t)] \\\\\n",
        "  x(t) = a_{x}t^2 + b_{x}t + c_x\\\\\n",
        "  y(t) = a_{y}t^2 + b_{y}t + c_y\\\\\n",
        "  z(t) = a_{z}t^2 + b_{z}t + c_z\n",
        "\\end{equation*}\n",
        "  * Easier to compute:\n",
        "    * Lower number of unknowns than cubic polynomials(9 vs 12)\n",
        "* Higher than cubic:\n",
        "  * Too computationally expensive(more than 12 unknowns)\n",
        "  * Unwanted wiggles (due to non-linearity)\n",
        "* Cubic:\n",
        "  * Least degree to specify endpoints and tangent vectors, 4 coefficients.\n",
        "\n",
        "### Cubic polynomial representation \n",
        "\\begin{equation*}\n",
        "  Q(t) = [x(t),  y(t),  z(t)] \\\\\n",
        "  x(t) = a_{x}t^3 + b_{x}t^2 + c_{x}t + d_x\\\\\n",
        "  y(t) = a_{y}t^3 + b_{y}t^2 + c_{y}t + d_y\\\\\n",
        "  z(t) = a_{z}t^3 + b_{z}t^2 + c_{z}t + d_z\n",
        "\\end{equation*}\n",
        "\n",
        "\\begin{equation*}\n",
        "  Q(t) = T.C \\\\\n",
        "T = \n",
        "\\begin{bmatrix}\n",
        "   t^{3} & t^{2} & t^{1} & 1\n",
        "\\end{bmatrix}  \\\\\n",
        "C = \n",
        "\\begin{bmatrix}\n",
        "  a_{x} & a_{y} & a_{z}  \\\\\n",
        "      b_{x} & b_{y} & b_{z}  \\\\\n",
        "      c_{x} & c_{y} & c_{z} \\\\\n",
        "      d_{x} & d_{y} & d_{z} \n",
        "\\end{bmatrix}\n",
        "\\end{equation*}\n",
        "\n",
        "### A demo:\n",
        "* https://www.desmos.com/calculator/ulvko52x7j\n",
        "* Implcit curves:\n",
        "  * https://www.geogebra.org/m/YBkweXKm\n",
        "* Parameteric representation of 3D curves:\n",
        "  * https://www.geogebra.org/m/D6yBZNNB  \n",
        "  * https://www.geogebra.org/m/EPypmb4f\n"
      ]
    },
    {
      "cell_type": "code",
      "metadata": {
        "id": "-1qqsGWlx3Ah",
        "colab_type": "code",
        "outputId": "363318b4-171b-4dab-c3ec-cc7d19adec6c",
        "colab": {
          "base_uri": "https://localhost:8080/",
          "height": 542
        }
      },
      "source": [
        "class CubicPolynomialParametericRepresentation(object):\n",
        "  def __init__(self, coff_matrix):\n",
        "    self.c = coff_matrix            \n",
        "\n",
        "  def generate_points_on_representation(self, t): # non-vectorized implementation\n",
        "    \n",
        "    x = self.c[0, 0] * pow(t, 3) + self.c[1, 0] * pow(t, 2) + self.c[2,0] * pow() + self.c[3,0]\n",
        "    y = self.c[0, 1] * pow(t, 3) + self.c[1, 1] * pow(t, 2) + self.c[2,1] * pow() + self.c[3,1]\n",
        "    z = self.c[0, 2] * pow(t, 3) + self.c[1, 2] * pow(t, 2) + self.c[2,2] * pow() + self.c[3,2]        \n",
        "    return x, y, z\n",
        "\n",
        "  def generate_points_on_representation_vectorized(self, t):\n",
        "    \n",
        "    t_vector = np.array([pow(t, 3), pow(t, 2), pow(t, 1), 1])\n",
        "    q = np.dot(t_vector, self.c)\n",
        "    return q # 1 X 3 vector\n",
        "\n",
        "if __name__ == '__main__' :    \n",
        "  \n",
        "  coff_matrix = np.array([[3, 2, 5],[5, 7, 9],[10, 11, 2], [2, 5, 1]])\n",
        "  curve = CubicPolynomialParametericRepresentation(coff_matrix)\n",
        "  # generate list of (x, y)  \n",
        "  n_points = 1000\n",
        "  x = [t for t in arange(0, 1, 1 / n_points)] \n",
        "  y = []\n",
        "  for i in x:\n",
        "    y.append(curve.generate_points_on_representation_vectorized(i))  \n",
        "  \n",
        "  xt = [y[i][0]  for i in range(n_points)]\n",
        "  yt = [y[i][1]  for i in range(n_points)]\n",
        "  zt = [y[i][2]  for i in range(n_points)]\n",
        "  '''\n",
        "  plt.plot(x, xt)  # xt   \n",
        "  plt.title('Parametric representation, x vs t')\n",
        "  plt.ylabel('x')\n",
        "  plt.xlabel('t')\n",
        "  plt.show()  \n",
        "\n",
        "  plt.plot(x, yt)  # yt   \n",
        "  plt.title('Parametric representation, y vs t')\n",
        "  plt.ylabel('y')\n",
        "  plt.xlabel('t')\n",
        "  plt.show()   \n",
        "\n",
        "  plt.plot(x, zt)  # zt   \n",
        "  plt.title('Parametric representation, z vs t')\n",
        "  plt.ylabel('z')\n",
        "  plt.xlabel('t')\n",
        "  plt.show()     \n",
        "  '''\n",
        "  fig = go.Figure(data=[go.Scatter3d(x=xt, y=yt, z=zt,\n",
        "                                   mode='markers', marker=dict(\n",
        "        size=1,\n",
        "                        # set color to an array/list of desired values\n",
        "        colorscale='Viridis',   # choose a colorscale\n",
        "        opacity=0.8\n",
        "    ))])\n",
        "  \n",
        "  fig.show()"
      ],
      "execution_count": 12,
      "outputs": [
        {
          "output_type": "display_data",
          "data": {
            "text/html": [
              "<html>\n",
              "<head><meta charset=\"utf-8\" /></head>\n",
              "<body>\n",
              "    <div>\n",
              "            <script src=\"https://cdnjs.cloudflare.com/ajax/libs/mathjax/2.7.5/MathJax.js?config=TeX-AMS-MML_SVG\"></script><script type=\"text/javascript\">if (window.MathJax) {MathJax.Hub.Config({SVG: {font: \"STIX-Web\"}});}</script>\n",
              "                <script type=\"text/javascript\">window.PlotlyConfig = {MathJaxConfig: 'local'};</script>\n",
              "        <script src=\"https://cdn.plot.ly/plotly-latest.min.js\"></script>    \n",
              "            <div id=\"ecb4f588-5ad3-40f9-b486-888c3bea8256\" class=\"plotly-graph-div\" style=\"height:525px; width:100%;\"></div>\n",
              "            <script type=\"text/javascript\">\n",
              "                \n",
              "                    window.PLOTLYENV=window.PLOTLYENV || {};\n",
              "                    \n",
              "                if (document.getElementById(\"ecb4f588-5ad3-40f9-b486-888c3bea8256\")) {\n",
              "                    Plotly.newPlot(\n",
              "                        'ecb4f588-5ad3-40f9-b486-888c3bea8256',\n",
              "                        [{\"marker\": {\"colorscale\": [[0.0, \"#440154\"], [0.1111111111111111, \"#482878\"], [0.2222222222222222, \"#3e4989\"], [0.3333333333333333, \"#31688e\"], [0.4444444444444444, \"#26828e\"], [0.5555555555555556, \"#1f9e89\"], [0.6666666666666666, \"#35b779\"], [0.7777777777777778, \"#6ece58\"], [0.8888888888888888, \"#b5de2b\"], [1.0, \"#fde725\"]], \"opacity\": 0.8, \"size\": 1}, \"mode\": \"markers\", \"type\": \"scatter3d\", \"x\": [2.0, 2.010005003, 2.020020024, 2.030045081, 2.040080192, 2.050125375, 2.0601806480000002, 2.0702460289999998, 2.080321536, 2.090407187, 2.1005030000000002, 2.110608993, 2.1207251840000003, 2.130851591, 2.140988232, 2.1511351249999997, 2.1612922880000003, 2.171459739, 2.181637496, 2.191825577, 2.202024, 2.212232783, 2.222451944, 2.232681501, 2.2429214720000004, 2.253171875, 2.2634327279999997, 2.273704049, 2.283985856, 2.294278167, 2.3045809999999998, 2.314894373, 2.325218304, 2.335552811, 2.345897912, 2.356253625, 2.3666199679999997, 2.376996959, 2.387384616, 2.397782957, 2.408192, 2.4186117630000004, 2.429042264, 2.439483521, 2.449935552, 2.460398375, 2.470872008, 2.4813564689999996, 2.491851776, 2.502357947, 2.512875, 2.5234029529999997, 2.5339418240000002, 2.544491631, 2.555052392, 2.565624125, 2.576206848, 2.586800579, 2.597405336, 2.6080211369999997, 2.6186480000000003, 2.6292859429999997, 2.639934984, 2.6505951409999997, 2.661266432, 2.671948875, 2.682642488, 2.693347289, 2.704063296, 2.714790527, 2.7255290000000003, 2.736278733, 2.7470397440000003, 2.757812051, 2.768595672, 2.779390625, 2.790196928, 2.801014599, 2.811843656, 2.822684117, 2.8335359999999996, 2.844399323, 2.8552741040000003, 2.866160361, 2.877058112, 2.887967375, 2.8988881680000005, 2.909820509, 2.920764416, 2.9317199069999997, 2.942687, 2.9536657130000004, 2.9646560639999997, 2.975658071, 2.986671752, 2.997697125, 3.008734208, 3.0197830189999997, 3.030843576, 3.0419158970000004, 3.053, 3.0640959029999997, 3.0752036240000002, 3.0863231810000005, 3.097454592, 3.1085978749999996, 3.119753048, 3.130920129, 3.142099136, 3.153290087, 3.1644930000000002, 3.1757078930000002, 3.186934784, 3.198173691, 3.209424632, 3.2206876250000005, 3.2319626880000003, 3.2432498389999997, 3.2545490960000003, 3.2658604770000004, 3.277184, 3.288519683, 3.2998675439999996, 3.311227601, 3.322599872, 3.333984375, 3.3453811279999996, 3.356790149, 3.368211456, 3.3796450670000002, 3.391091, 3.402549273, 3.4140199040000003, 3.425502911, 3.436998312, 3.448506125, 3.4600263680000003, 3.471559059, 3.483104216, 3.494661857, 3.5062320000000002, 3.5178146630000002, 3.529409864, 3.5410176210000004, 3.5526379520000004, 3.564270875, 3.575916408, 3.5875745689999996, 3.599245376, 3.6109288470000003, 3.622625, 3.634333853, 3.646055424, 3.6577897310000003, 3.669536792, 3.681296625, 3.693069248, 3.7048546790000003, 3.716652936, 3.7284640369999997, 3.740288, 3.7521248430000003, 3.763974584, 3.775837241, 3.787712832, 3.7996013750000004, 3.811502888, 3.823417389, 3.835344896, 3.8472854270000005, 3.859239, 3.871205633, 3.883185344, 3.8951781510000005, 3.907184072, 3.919203125, 3.9312353279999996, 3.943280699, 3.955339256, 3.967411017, 3.9794959999999997, 3.991594223, 4.003705704, 4.015830461, 4.027968512, 4.040119875, 4.052284568, 4.0644626090000004, 4.076654016, 4.088858807, 4.101077, 4.113308613, 4.125553664, 4.137812171, 4.150084152, 4.162369625, 4.174668608, 4.186981119, 4.199307176, 4.211646797, 4.224, 4.236366803, 4.248747224, 4.2611412810000004, 4.273548992, 4.285970375000001, 4.2984054480000005, 4.310854229, 4.323316736, 4.335792987, 4.3482829999999995, 4.360786792999999, 4.373304384, 4.385835791, 4.3983810320000005, 4.410940125000001, 4.423513088, 4.436099939, 4.4487006959999995, 4.461315376999999, 4.473944, 4.486586583, 4.499243144, 4.511913701, 4.524598272, 4.537296875, 4.5500095279999995, 4.562736248999999, 4.575477056, 4.5882319670000005, 4.601001000000001, 4.613784173000001, 4.626581504000001, 4.639393011, 4.652218712, 4.6650586249999995, 4.6779127680000006, 4.690781159, 4.703663816000001, 4.716560757000001, 4.729472, 4.742397563, 4.755337464, 4.768291721, 4.781260351999999, 4.794243375, 4.8072408079999995, 4.820252668999999, 4.833278976000001, 4.846319747, 4.859375, 4.872444753, 4.885529023999999, 4.898627831000001, 4.911741192, 4.924869125, 4.938011648000001, 4.9511687790000005, 4.964340536, 4.9775269369999995, 4.990728, 5.003943743000001, 5.017174184, 5.030419341, 5.043679232000001, 5.0569538750000005, 5.070243288, 5.083547489, 5.096866496, 5.110200327, 5.123549000000001, 5.136912533, 5.150290944000001, 5.163684251, 5.177092472, 5.190515625, 5.203953728, 5.217406799000001, 5.230874856000001, 5.244357917, 5.257856000000001, 5.271369123, 5.284897304, 5.2984405610000005, 5.311998912, 5.325572375000001, 5.339160968000001, 5.352764709000001, 5.366383616000001, 5.3800177069999995, 5.393667000000001, 5.407331513, 5.421011264, 5.434706271, 5.448416551999999, 5.462142125, 5.475883008, 5.489639219, 5.503410776000001, 5.517197697, 5.531, 5.544817703, 5.558650824, 5.572499380999999, 5.586363392, 5.600242875, 5.614137848, 5.628048329, 5.6419743360000005, 5.655915887, 5.669873, 5.683845692999999, 5.697833984, 5.711837891, 5.725857432000001, 5.739892625, 5.753943488, 5.768010039, 5.782092296, 5.796190276999999, 5.810304, 5.824433483, 5.838578744000001, 5.852739801, 5.866916672, 5.881109375, 5.895317928, 5.909542349, 5.923782656, 5.938038867, 5.952311000000001, 5.966599073, 5.980903104, 5.9952231110000005, 6.009559112, 6.023911125, 6.038279168000001, 6.052663259, 6.067063416000001, 6.081479657000001, 6.095912, 6.110360463, 6.124825064, 6.139305821, 6.153802752000001, 6.168315875, 6.182845208000001, 6.197390769000001, 6.211952576000001, 6.226530647000001, 6.241125, 6.255735653, 6.270362624, 6.285005930999999, 6.299665592, 6.314341625, 6.329034048, 6.343742879000001, 6.358468136, 6.373209837, 6.387968, 6.402742643, 6.417533784, 6.432341441, 6.447165632, 6.4620063750000005, 6.476863688, 6.4917375889999995, 6.506628096, 6.521535226999999, 6.536459, 6.551399433, 6.566356544, 6.581330351, 6.596320872, 6.611328125, 6.626352128, 6.6413928989999995, 6.656450456, 6.671524817, 6.686616, 6.701724023000001, 6.716848904, 6.731990661, 6.7471493119999995, 6.762324875, 6.777517368000001, 6.792726809, 6.807953216, 6.823196607000001, 6.838457, 6.853734413000001, 6.869028864000001, 6.8843403709999995, 6.899668952000001, 6.915014625, 6.930377408, 6.945757319000001, 6.9611543760000005, 6.976568597, 6.992, 7.007448603, 7.0229144240000005, 7.0383974810000005, 7.053897792000001, 7.069415375000001, 7.084950248, 7.1005024290000005, 7.116071936000001, 7.131658787, 7.147263000000001, 7.162884593, 7.178523584000001, 7.194179991, 7.209853832, 7.225545125, 7.241253888000001, 7.2569801389999995, 7.272723896, 7.288485176999999, 7.304264, 7.3200603829999995, 7.335874344, 7.351705900999999, 7.367555072, 7.383421875, 7.399306328, 7.415208449, 7.431128256, 7.447065767, 7.4630209999999995, 7.478993973, 7.494984704, 7.510993211, 7.527019512, 7.543063624999999, 7.559125568000001, 7.575205359, 7.5913030159999995, 7.607418557, 7.623552, 7.639703363000001, 7.655872664, 7.672059921, 7.6882651520000005, 7.704488375, 7.720729608, 7.736988868999999, 7.753266176, 7.769561547, 7.785875000000001, 7.8022065529999995, 7.818556224, 7.834924031, 7.851309992, 7.867714125, 7.8841364480000005, 7.900576979, 7.917035736000001, 7.933512737, 7.950008, 7.966521543000001, 7.983053384, 7.999603541, 8.016172032, 8.032758875, 8.049364088, 8.065987689, 8.082629696000001, 8.099290127, 8.115969, 8.132666333, 8.149382144, 8.166116451, 8.182869272000001, 8.199640625, 8.216430528, 8.233238999000001, 8.250066056000001, 8.266911717000001, 8.283776, 8.300658923, 8.317560504, 8.334480761, 8.351419712, 8.368377375, 8.385353768, 8.402348909, 8.419362816, 8.436395507, 8.453447, 8.470517313, 8.487606464, 8.504714471, 8.521841352, 8.538987125, 8.556151808, 8.573335419, 8.590537976, 8.607759497, 8.625, 8.642259503, 8.659538024, 8.676835581, 8.694152192, 8.711487875, 8.728842648, 8.746216529, 8.763609536, 8.781021686999999, 8.798453, 8.815903493, 8.833373184, 8.850862091, 8.868370232, 8.885897625, 8.903444288, 8.921010239, 8.938595496, 8.956200077, 8.973824, 8.991467283, 9.009129944000001, 9.026812001, 9.044513472, 9.062234375, 9.079974728, 9.097734549, 9.115513856, 9.133312667, 9.151131000000001, 9.168968873, 9.186826304, 9.204703311, 9.222599912, 9.240516125000001, 9.258451968000001, 9.276407459000001, 9.294382616, 9.312377457, 9.330392, 9.348426263, 9.366480264, 9.384554021000001, 9.402647552000001, 9.420760875000001, 9.438894008000002, 9.457046969, 9.475219776000001, 9.493412447, 9.511625, 9.529857453000002, 9.548109824, 9.566382131000001, 9.584674392000002, 9.602986625000002, 9.621318848000001, 9.639671079000001, 9.658043336, 9.676435637, 9.694848, 9.713280443, 9.731732984, 9.750205641, 9.768698432, 9.787211375000002, 9.805744488, 9.824297789000001, 9.842871296000002, 9.861465027000001, 9.880079000000002, 9.898713233000002, 9.917367744000002, 9.936042551, 9.954737672, 9.973453125, 9.992188928000001, 10.010945098999999, 10.029721656, 10.048518617, 10.067336, 10.086173823, 10.105032104, 10.123910860999999, 10.142810112, 10.161729874999999, 10.180670167999999, 10.199631008999999, 10.218612416, 10.237614406999999, 10.256637, 10.275680213, 10.294744064, 10.313828571, 10.332933751999999, 10.352059624999999, 10.371206208, 10.390373519, 10.409561576, 10.428770397000001, 10.448, 10.467250403, 10.486521623999998, 10.505813681, 10.525126592, 10.544460375, 10.563815047999999, 10.583190629, 10.602587136, 10.622004587, 10.641442999999999, 10.660902392999999, 10.680382784, 10.699884190999999, 10.719406632, 10.738950125, 10.758514688, 10.778100339, 10.797707096, 10.817334977, 10.836984, 10.856654183, 10.876345544, 10.896058101000001, 10.915791872, 10.935546875, 10.955323128, 10.975120648999999, 10.994939456, 11.014779567, 11.034641, 11.054523773, 11.074427904, 11.094353411, 11.114300312000001, 11.134268625, 11.154258368, 11.174269559, 11.194302215999999, 11.214356357, 11.234432, 11.254529163, 11.274647864, 11.294788121, 11.314949952000003, 11.335133375, 11.355338408000001, 11.375565069, 11.395813376, 11.416083347, 11.436375, 11.456688353, 11.477023424, 11.497380231000001, 11.517758791999999, 11.538159125, 11.558581248000001, 11.579025179, 11.599490936, 11.619978537, 11.640488000000001, 11.661019343, 11.681572584000001, 11.702147741000001, 11.722744832, 11.743363875, 11.764004888, 11.784667889000001, 11.805352896, 11.826059927000003, 11.846789, 11.867540133000002, 11.888313344, 11.909108651, 11.929926072, 11.950765625, 11.971627328000002, 11.992511198999999, 12.013417256, 12.034345517000002, 12.055296000000002, 12.076268723000002, 12.097263704000001, 12.118280961, 12.139320512000001, 12.160382375000001, 12.181466568000001, 12.202573109000001, 12.223702016, 12.244853307000001, 12.266027000000001, 12.287223113000001, 12.308441664000002, 12.329682671, 12.350946152000002, 12.372232125000002, 12.393540608000002, 12.414871619000001, 12.436225176, 12.457601297, 12.479000000000001, 12.500421303000003, 12.521865224, 12.543331781000003, 12.564820991999998, 12.586332875, 12.607867447999999, 12.629424729, 12.651004735999999, 12.672607486999999, 12.694233, 12.715881292999999, 12.737552383999999, 12.759246290999998, 12.780963031999999, 12.802702624999998, 12.824465088, 12.846250438999999, 12.868058695999999, 12.889889877, 12.911743999999999, 12.933621083, 12.955521143999999, 12.977444201, 12.999390272, 13.021359375, 13.043351527999999, 13.065366748999999, 13.087405056, 13.109466466999999, 13.131551, 13.153658672999999, 13.175789504, 13.197943511, 13.220120712, 13.242321125, 13.264544767999999, 13.286791659, 13.309061816, 13.331355257, 13.353672, 13.376012063000001, 13.398375464, 13.420762221, 13.443172352, 13.465605875, 13.488062808000002, 13.510543168999998, 13.533046976000001, 13.555574247, 13.578125, 13.600699253, 13.623297024, 13.645918331, 13.668563191999999, 13.691231625, 13.713923648000002, 13.736639279, 13.759378536, 13.782141437, 13.804928, 13.827738242999999, 13.850572184, 13.873429841, 13.896311232, 13.919216375000001, 13.942145288, 13.965097989, 13.988074496, 14.011074827000002, 14.034099, 14.057147033, 14.080218944000002, 14.103314751, 14.126434472, 14.149578125000001, 14.172745728, 14.195937299, 14.219152856000001, 14.242392417, 14.265656, 14.288943623000002, 14.312255304, 14.335591061, 14.358950912000001, 14.382334875000002, 14.405742968, 14.429175209, 14.452631616000001, 14.476112207, 14.499617, 14.523146013000002, 14.546699264, 14.570276771, 14.593878552000001, 14.617504625, 14.641155008000002, 14.664829719, 14.688528776000002, 14.712252197000002, 14.736, 14.759772203, 14.783568824, 14.807389881000002, 14.831235392000002, 14.855105375, 14.878999848000001, 14.902918829, 14.926862336000001, 14.950830387, 14.974823000000002, 14.998840193000001, 15.022881984000001, 15.046948391, 15.071039432000001, 15.095155125000002, 15.119295488000002, 15.143460539000001, 15.167650296000001, 15.191864777000003, 15.216104000000001, 15.240367983000002, 15.264656744000002, 15.288970301, 15.313308672000002, 15.337671875000002, 15.362059928000003, 15.386472849000002, 15.410910656000002, 15.435373367000002, 15.459861000000002, 15.484373573000003, 15.508911104000003, 15.533473611, 15.558061111999999, 15.582673624999998, 15.607311167999999, 15.631973759, 15.656661415999999, 15.681374157, 15.706112, 15.730874963, 15.755663064, 15.780476321, 15.805314752, 15.830178375, 15.855067207999998, 15.879981268999998, 15.904920576, 15.929885147, 15.954875, 15.979890153, 16.004930624, 16.029996431, 16.055087592, 16.080204125, 16.105346048, 16.130513379, 16.155706136, 16.180924337, 16.206167999999998, 16.231437143, 16.256731784, 16.282051941, 16.307397632, 16.332768875, 16.358165688, 16.383588089, 16.409036096, 16.434509727, 16.460009, 16.485533933, 16.511084544, 16.536660851, 16.562262871999998, 16.587890625, 16.613544128, 16.639223399, 16.664928456, 16.690659316999998, 16.716416000000002, 16.742198523, 16.768006904, 16.793841161, 16.819701312, 16.845587375, 16.871499368000002, 16.897437309, 16.923401216000002, 16.949391107, 16.975407, 17.001448913, 17.027516864, 17.053610871, 17.079730952, 17.105877125, 17.132049408, 17.158247819, 17.184472376000002, 17.210723097, 17.237000000000002, 17.263303103, 17.289632424, 17.315987981, 17.342369792, 17.368777875, 17.395212248, 17.421672929, 17.448159936, 17.474673287, 17.501213, 17.527779093, 17.554371584000002, 17.580990491, 17.607635832, 17.634307625, 17.661005888000002, 17.687730639, 17.714481896000002, 17.741259677000002, 17.768064000000003, 17.794894883, 17.821752344, 17.848636401, 17.875547072, 17.902484375, 17.929448328, 17.956438949000002, 17.983456256000004, 18.010500267, 18.037571, 18.064668473, 18.091792704, 18.118943711, 18.146121512, 18.173326125000003, 18.200557568, 18.227815859000003, 18.255101016, 18.282413057, 18.309752000000003, 18.337117863000003, 18.364510664, 18.391930421, 18.419377152000003, 18.446850875000003, 18.474351608000003, 18.501879369, 18.529434176000002, 18.557016047, 18.584625000000003, 18.612261053000005, 18.639924224, 18.667614531, 18.695331992000003, 18.723076625, 18.750848448000003, 18.778647479, 18.806473736, 18.834327237000004, 18.862208, 18.890116043, 18.918051383999998, 18.946014040999998, 18.974004032, 19.002021374999998, 19.030066087999998, 19.058138188999997, 19.086237695999998, 19.114364627, 19.142519, 19.170700832999998, 19.198910144, 19.227146951, 19.255411272, 19.283703125, 19.312022528, 19.340369498999998, 19.368744055999997, 19.397146217, 19.425576, 19.454033423, 19.482518503999998, 19.511031261, 19.539571712, 19.568139875, 19.596735768, 19.625359408999998, 19.654010816, 19.682690007, 19.711397, 19.740131812999998, 19.768894464, 19.797684971, 19.826503352, 19.855349625, 19.884223808, 19.913125919000002, 19.942055976, 19.971013997], \"y\": [5.0, 5.011007002, 5.022028016, 5.033063054, 5.044112127999999, 5.05517525, 5.066252432, 5.077343686, 5.088449024, 5.099568458, 5.110702000000001, 5.121849662000001, 5.133011455999999, 5.144187393999999, 5.155377488, 5.16658175, 5.177800192, 5.189032826, 5.200279664, 5.211540717999999, 5.222816, 5.234105522, 5.245409296, 5.256727334, 5.268059648, 5.27940625, 5.290767152, 5.302142366, 5.3135319039999995, 5.3249357779999995, 5.336354, 5.347786582, 5.3592335360000005, 5.370694874, 5.382170608, 5.39366075, 5.405165312, 5.416684306, 5.428217744, 5.439765638, 5.451328, 5.4629048419999995, 5.474496176, 5.486102014, 5.497722368, 5.50935725, 5.521006672, 5.532670646000001, 5.5443491840000005, 5.5560422979999995, 5.56775, 5.579472302, 5.591209216, 5.602960754000001, 5.6147269280000005, 5.62650775, 5.638303231999999, 5.650113386, 5.661938224, 5.673777758, 5.685632, 5.697500962, 5.709384656, 5.7212830939999995, 5.733196287999999, 5.74512425, 5.757066992, 5.769024526, 5.7809968640000005, 5.792984018, 5.8049859999999995, 5.817002822000001, 5.829034496, 5.841081034, 5.853142448, 5.86521875, 5.877309952, 5.889416066, 5.901537104, 5.9136730779999995, 5.9258239999999995, 5.937989882, 5.9501707360000005, 5.962366574000001, 5.974577408, 5.98680325, 5.999044112, 6.011300006, 6.023570944, 6.035856938, 6.048158, 6.0604741419999995, 6.072805376000001, 6.085151713999999, 6.097513168, 6.10988975, 6.122281472, 6.134688346, 6.147110384, 6.1595475980000005, 6.172, 6.184467602, 6.196950416, 6.209448454, 6.221961728, 6.23449025, 6.247034032, 6.259593086, 6.272167424, 6.284757058, 6.297362, 6.309982262, 6.322617856, 6.335268794, 6.347935088, 6.36061675, 6.373313791999999, 6.386026226, 6.398754064, 6.411497318, 6.424256000000001, 6.4370301219999995, 6.4498196960000005, 6.462624733999999, 6.475445248, 6.48828125, 6.501132752, 6.513999766, 6.526882303999999, 6.539780378000001, 6.552694, 6.5656231819999995, 6.578567936, 6.591528274, 6.604504208, 6.617495750000001, 6.630502912000001, 6.643525706, 6.656564144000001, 6.669618238, 6.682688, 6.695773442, 6.708874576, 6.7219914140000006, 6.735123968, 6.748272249999999, 6.761436272, 6.774616046, 6.787811584, 6.801022898, 6.81425, 6.8274929019999995, 6.8407516159999995, 6.854026154, 6.867316528, 6.88062275, 6.893944832, 6.907282786000001, 6.920636623999999, 6.934006358, 6.947392, 6.960793562, 6.974211056, 6.987644494, 7.001093888000001, 7.0145592500000005, 7.028040592000001, 7.041537926, 7.055051264, 7.068580618, 7.082126000000001, 7.095687422, 7.109264896, 7.122858434, 7.136468047999999, 7.150093750000001, 7.163735552, 7.177393466, 7.191067504, 7.204757677999999, 7.218464000000001, 7.2321864819999995, 7.245925135999999, 7.259679974, 7.273451008, 7.28723825, 7.301041711999999, 7.314861406, 7.328697344, 7.342549538000001, 7.356418, 7.370302742, 7.384203776, 7.398121114, 7.412054768, 7.42600475, 7.4399710720000005, 7.453953746, 7.4679527839999995, 7.481968198000001, 7.496, 7.510048202, 7.524112816, 7.538193854, 7.552291328, 7.566405250000001, 7.580535632, 7.594682486, 7.608845824, 7.6230256579999995, 7.637222, 7.6514348619999994, 7.6656642559999995, 7.679910194, 7.694172688, 7.70845175, 7.722747392, 7.737059626000001, 7.751388464, 7.765733918, 7.780096, 7.794474722, 7.808870096000001, 7.823282133999999, 7.837710848, 7.852156249999999, 7.866618352000001, 7.881097166, 7.895592704, 7.910104978, 7.924634, 7.939179782, 7.9537423359999995, 7.968321674, 7.982917808, 7.99753075, 8.012160512, 8.026807106, 8.041470544000001, 8.056150837999999, 8.070848, 8.085562042, 8.100292976, 8.115040814, 8.129805568, 8.14458725, 8.159385872, 8.174201446000001, 8.189033984, 8.203883498, 8.21875, 8.233633502, 8.248534016, 8.263451554, 8.278386128000001, 8.29333775, 8.308306432, 8.323292186, 8.338295024, 8.353314958, 8.368352, 8.383406162, 8.398477456, 8.413565894000001, 8.428671487999999, 8.44379425, 8.458934192000001, 8.474091326, 8.489265664000001, 8.504457217999999, 8.519666, 8.534892022, 8.550135296, 8.565395834, 8.580673648, 8.59596875, 8.611281152000002, 8.626610866, 8.641957904, 8.657322278, 8.672704, 8.688103082000001, 8.703519536, 8.718953374, 8.734404608, 8.74987325, 8.765359312000001, 8.780862806, 8.796383744, 8.811922138, 8.827478, 8.843051342, 8.858642176, 8.874250514, 8.889876368, 8.90551975, 8.921180672, 8.936859146, 8.952555184000001, 8.968268798, 8.984, 8.999748802, 9.015515215999999, 9.031299254, 9.047100927999999, 9.062920250000001, 9.078757232, 9.094611886, 9.110484224, 9.126374258, 9.142282, 9.158207462, 9.174150656, 9.190111594, 9.206090288, 9.222086749999999, 9.238100992, 9.254133026, 9.270182864, 9.286250518000001, 9.302336, 9.318439322, 9.334560496, 9.350699534, 9.366856448, 9.38303125, 9.399223952, 9.415434566, 9.431663104, 9.447909577999999, 9.464174000000002, 9.480456382, 9.496756736000002, 9.513075074, 9.529411408, 9.545765750000001, 9.562138112, 9.578528506000001, 9.594936944, 9.611363438, 9.627808, 9.644270642000002, 9.660751376, 9.677250214, 9.693767168, 9.71030225, 9.726855472, 9.743426846, 9.760016384, 9.776624098000001, 9.793250000000002, 9.809894102000001, 9.826556415999999, 9.843236953999998, 9.859935728, 9.87665275, 9.893388032, 9.910141586, 9.926913423999999, 9.943703558, 9.960512000000001, 9.977338762, 9.994183856, 10.011047294, 10.027929088, 10.044829250000001, 10.061747792, 10.078684725999999, 10.095640064, 10.112613818000002, 10.129606, 10.146616622, 10.163645696, 10.180693234, 10.197759248, 10.21484375, 10.231946751999999, 10.249068266, 10.266208304000001, 10.283366878, 10.300544, 10.317739682, 10.334953936, 10.352186774000002, 10.369438208, 10.38670825, 10.403996912, 10.421304206, 10.438630144000001, 10.455974738, 10.473338, 10.490719942, 10.508120576000001, 10.525539914, 10.542977967999999, 10.56043475, 10.577910272, 10.595404546000001, 10.612917584, 10.630449398, 10.648, 10.665569402000001, 10.683157616, 10.700764654, 10.718390527999999, 10.73603525, 10.753698832000001, 10.771381286, 10.789082624, 10.806802858000001, 10.824542000000001, 10.842300062000001, 10.860077056, 10.877872994, 10.895687888000001, 10.913521750000001, 10.931374592000001, 10.949246426, 10.967137263999998, 10.985047118, 11.002976, 11.020923922, 11.038890896, 11.056876933999998, 11.074882048, 11.09290625, 11.110949552, 11.129011965999998, 11.147093504, 11.165194178, 11.183314, 11.201452982, 11.219611136, 11.237788474, 11.255985008000001, 11.27420075, 11.292435712, 11.310689906, 11.328963344, 11.347256038000001, 11.365568, 11.383899241999998, 11.402249776, 11.420619614000001, 11.439008768, 11.457417249999999, 11.475845071999998, 11.494292246, 11.512758784, 11.531244698, 11.54975, 11.568274702, 11.586818816000001, 11.605382354, 11.623965328, 11.64256775, 11.661189632, 11.679830986, 11.698491824, 11.717172158, 11.735872, 11.754591362000001, 11.773330256000001, 11.792088694, 11.810866687999999, 11.82966425, 11.848481392000002, 11.867318126, 11.886174464, 11.905050418, 11.923946, 11.942861222000001, 11.961796096, 11.980750634, 11.999724848000001, 12.018718750000001, 12.037732352, 12.056765666, 12.075818704, 12.094891478000001, 12.113983999999999, 12.133096282, 12.152228336, 12.171380174, 12.190551808, 12.20974325, 12.228954512, 12.248185606, 12.267436544, 12.286707338, 12.305998, 12.325308542, 12.344638975999999, 12.363989314, 12.383359568000001, 12.40274975, 12.422159872, 12.441589945999999, 12.461039984, 12.480509998, 12.5, 12.519510001999999, 12.539040016000001, 12.558590054000002, 12.578160128, 12.59775025, 12.617360431999998, 12.636990686, 12.656641024, 12.676311458, 12.696002, 12.715712662000001, 12.735443455999999, 12.755194394, 12.774965488, 12.79475675, 12.814568192, 12.834399826000002, 12.854251664, 12.874123718, 12.894016, 12.913928521999999, 12.933861296, 12.953814334, 12.973787648, 12.993781250000001, 13.013795152000002, 13.033829366, 13.053883904, 13.073958778, 13.094054, 13.114169582000002, 13.134305536000001, 13.154461873999999, 13.174638608, 13.194835750000001, 13.215053312000002, 13.235291306, 13.255549744, 13.275828638, 13.296128000000001, 13.316447842, 13.336788176, 13.357149014, 13.377530368, 13.39793225, 13.418354672, 13.438797646, 13.459261184, 13.479745298000001, 13.500250000000001, 13.520775302, 13.541321216000002, 13.561887754, 13.582474928000002, 13.60308275, 13.623711232, 13.644360386, 13.665030224000002, 13.685720758000002, 13.706432, 13.727163962, 13.747916656000001, 13.768690094000002, 13.789484288, 13.81029925, 13.831134992, 13.851991526000003, 13.872868864, 13.893767018000002, 13.914686, 13.935625822000002, 13.956586496000003, 13.977568034, 13.998570448, 14.019593750000002, 14.040637952, 14.061703066, 14.082789104, 14.103896078, 14.125024, 14.146172882, 14.167342735999998, 14.188533574000001, 14.209745408, 14.230978249999998, 14.252232112, 14.273507006, 14.294802944, 14.316119938, 14.337457999999998, 14.358817142, 14.380197376, 14.401598713999999, 14.423021167999998, 14.44446475, 14.465929472000001, 14.487415345999999, 14.508922384, 14.530450597999998, 14.552, 14.573570602, 14.595162415999999, 14.616775453999999, 14.638409728, 14.660065249999999, 14.681742032, 14.703440085999999, 14.725159423999997, 14.746900058, 14.768662, 14.790445262, 14.812249856, 14.834075794, 14.855923087999999, 14.87779175, 14.899681791999999, 14.921593225999999, 14.943526064, 14.965480318000001, 14.987456000000002, 15.009453122, 15.031471695999999, 15.053511734, 15.075573248000001, 15.09765625, 15.119760752, 15.141886766, 15.164034304000001, 15.186203378000002, 15.208394, 15.230606181999999, 15.252839936, 15.275095274000002, 15.297372208, 15.31967075, 15.341990912, 15.364332705999999, 15.386696144000002, 15.409081237999999, 15.431487999999998, 15.453916442, 15.476366576, 15.498838414000002, 15.521331968, 15.54384725, 15.566384272, 15.588943046, 15.611523584, 15.634125898, 15.65675, 15.679395902000001, 15.702063616, 15.724753154, 15.747464527999998, 15.770197750000001, 15.792952832000001, 15.815729786, 15.838528623999999, 15.861349358000002, 15.884192000000002, 15.907056562000001, 15.929943056, 15.952851493999999, 15.975781888, 15.998734250000002, 16.021708592000003, 16.044704926, 16.067723264, 16.090763618, 16.113826000000003, 16.136910422, 16.160016896000002, 16.183145434, 16.206296048000002, 16.229468750000002, 16.252663552, 16.275880466, 16.299119504, 16.322380678000002, 16.345664, 16.368969482, 16.392297136, 16.415646974, 16.439019008000002, 16.46241325, 16.485829712, 16.509268406, 16.532729344000003, 16.556212538, 16.579718, 16.603245742000002, 16.626795776, 16.650368114000003, 16.673962768000003, 16.697579750000003, 16.721219072, 16.744880746000003, 16.768564784000002, 16.792271198, 16.816000000000003, 16.839751202000002, 16.863524816, 16.887320854000002, 16.911139327999997, 16.93498025, 16.958843632, 16.982729485999997, 17.006637824, 17.030568658, 17.054522, 17.078497862, 17.102496256000002, 17.126517194, 17.150560688, 17.174626749999998, 17.198715392, 17.222826626, 17.246960463999997, 17.271116917999997, 17.295296, 17.319497722, 17.343722096, 17.367969134, 17.392238847999998, 17.41653125, 17.440846352, 17.465184166, 17.489544704, 17.513927977999998, 17.538334, 17.562762782, 17.587214336, 17.611688674, 17.636185808, 17.660705749999998, 17.685248512, 17.709814106, 17.734402544, 17.759013838, 17.783648, 17.808305042, 17.832984976, 17.857687814000002, 17.882413568, 17.90716225, 17.931933872, 17.956728446, 17.981545984, 18.006386498, 18.03125, 18.056136502, 18.081046016000002, 18.105978554, 18.130934128, 18.15591275, 18.180914432, 18.205939186000002, 18.230987024, 18.256057958, 18.281152, 18.306269162, 18.331409456, 18.356572894000003, 18.381759488, 18.40696925, 18.432202192, 18.457458326, 18.482737664, 18.508040217999998, 18.533366, 18.558715022, 18.584087296, 18.609482834, 18.634901648, 18.660343750000003, 18.685809152, 18.711297866000002, 18.736809904, 18.762345278, 18.787904, 18.813486082, 18.839091536, 18.864720374, 18.890372608, 18.91604825, 18.941747312, 18.967469806, 18.993215744000004, 19.018985138, 19.044778, 19.070594342, 19.096434176, 19.122297514000003, 19.148184368000003, 19.174094750000002, 19.200028672000002, 19.225986146000004, 19.251967184, 19.277971798000003, 19.304000000000002, 19.330051802, 19.356127216000004, 19.382226254000003, 19.408348928000002, 19.43449525, 19.460665232, 19.486858886, 19.513076224000002, 19.539317258, 19.565582, 19.591870462000003, 19.618182656000002, 19.644518594000004, 19.670878288, 19.697261750000003, 19.723668992, 19.750100026000002, 19.776554864, 19.803033518, 19.829536000000004, 19.856062322, 19.882612496, 19.909186534, 19.935784448, 19.96240625, 19.989051952, 20.015721566000003, 20.042415104, 20.069132578, 20.095874000000002, 20.122639382000003, 20.149428736000004, 20.176242074, 20.203079408, 20.229940749999997, 20.256826112, 20.283735506, 20.310668944, 20.337626437999997, 20.364608, 20.391613642, 20.418643376, 20.445697214, 20.472775168, 20.49987725, 20.527003471999997, 20.554153846, 20.581328384, 20.608527098, 20.635749999999998, 20.662997102, 20.690268416000002, 20.717563954, 20.744883727999998, 20.77222775, 20.799596032, 20.826988586, 20.854405424, 20.881846558, 20.909312, 20.936801762, 20.964315856, 20.991854294, 21.019417087999997, 21.04700425, 21.074615792, 21.102251726, 21.129912064, 21.157596818, 21.185306, 21.213039622, 21.240797696, 21.268580233999998, 21.296387248000002, 21.32421875, 21.352074752, 21.379955266, 21.407860304, 21.435789878, 21.463744, 21.491722682000002, 21.519725936, 21.547753774, 21.575806208, 21.60388325, 21.631984912, 21.660111206, 21.688262144, 21.716437738, 21.744638000000002, 21.772862942, 21.801112576, 21.829386914, 21.857685968, 21.88600975, 21.914358272, 21.942731546, 21.971129584, 21.999552398, 22.028, 22.056472402, 22.084969616000002, 22.113491654, 22.142038528, 22.17061025, 22.199206832, 22.227828286, 22.256474624, 22.285145858, 22.313842, 22.342563062000004, 22.371309056, 22.400079994000002, 22.428875888, 22.457696750000004, 22.486542592, 22.515413426000002, 22.544309264, 22.573230118, 22.602176, 22.631146922, 22.660142896000004, 22.689163934, 22.718210048000003, 22.74728125, 22.776377552, 22.805498966000002, 22.834645504, 22.863817178, 22.893014, 22.922235982, 22.951483136, 22.980755474, 23.010053008000003, 23.03937575, 23.068723712, 23.098096906000002, 23.127495344000003, 23.156919038, 23.186368, 23.215842242, 23.245341776000004, 23.274866614, 23.304416768000003, 23.33399225, 23.363593072, 23.393219246, 23.422870784000004, 23.452547698000004, 23.48225, 23.511977702000003, 23.541730816, 23.571509354, 23.601313328000003, 23.631142750000002, 23.660997632, 23.690877986000004, 23.720783824, 23.750715158000002, 23.780672, 23.810654362, 23.840662255999998, 23.870695694, 23.900754688, 23.93083925, 23.960949391999996, 23.991085126, 24.021246464, 24.051433418, 24.081646, 24.111884222, 24.142148096, 24.172437633999998, 24.202752848, 24.233093750000002, 24.263460352000003, 24.293852666, 24.324270704, 24.354714477999998, 24.385184, 24.415679282, 24.446200336, 24.476747174, 24.507319808, 24.537918249999997, 24.568542512, 24.599192606, 24.629868544, 24.660570338, 24.691298, 24.722051542, 24.752830976, 24.783636314, 24.814467567999998, 24.84532475, 24.876207872000002, 24.907116946000002, 24.938051983999998, 24.969012998], \"z\": [1.0, 1.002009005, 1.00403604, 1.006081135, 1.00814432, 1.010225625, 1.01232508, 1.014442715, 1.01657856, 1.018732645, 1.020905, 1.023095655, 1.02530464, 1.027531985, 1.02977772, 1.032041875, 1.03432448, 1.036625565, 1.03894516, 1.041283295, 1.0436400000000001, 1.046015305, 1.04840924, 1.050821835, 1.05325312, 1.055703125, 1.05817188, 1.060659415, 1.06316576, 1.065690945, 1.068235, 1.070797955, 1.07337984, 1.075980685, 1.0786005200000002, 1.081239375, 1.08389728, 1.086574265, 1.08927036, 1.0919855950000001, 1.0947200000000001, 1.097473605, 1.10024644, 1.103038535, 1.10584992, 1.108680625, 1.11153068, 1.114400115, 1.11728896, 1.1201972450000002, 1.1231250000000002, 1.1260722550000002, 1.12903904, 1.1320253850000002, 1.1350313200000002, 1.1380568750000002, 1.14110208, 1.1441669650000001, 1.1472515600000002, 1.1503558950000001, 1.15348, 1.1566239049999998, 1.15978764, 1.1629712349999999, 1.16617472, 1.1693981249999998, 1.17264148, 1.175904815, 1.17918816, 1.182491545, 1.185815, 1.189158555, 1.1925222400000002, 1.1959060849999998, 1.1993101199999998, 1.202734375, 1.20617888, 1.209643665, 1.21312876, 1.216634195, 1.22016, 1.2237062049999998, 1.22727284, 1.230859935, 1.23446752, 1.238095625, 1.24174428, 1.2454135149999999, 1.2491033599999999, 1.252813845, 1.256545, 1.260296855, 1.2640694399999999, 1.267862785, 1.27167692, 1.2755118749999999, 1.27936768, 1.283244365, 1.28714196, 1.291060495, 1.295, 1.298960505, 1.30294204, 1.306944635, 1.31096832, 1.315013125, 1.3190790799999998, 1.3231662149999999, 1.32727456, 1.331404145, 1.335555, 1.339727155, 1.3439206399999999, 1.348135485, 1.35237172, 1.356629375, 1.36090848, 1.365209065, 1.36953116, 1.373874795, 1.37824, 1.382626805, 1.38703524, 1.391465335, 1.39591712, 1.400390625, 1.40488588, 1.409402915, 1.41394176, 1.4185024450000001, 1.423085, 1.427689455, 1.43231584, 1.4369641850000001, 1.44163452, 1.446326875, 1.45104128, 1.4557777650000001, 1.46053636, 1.465317095, 1.47012, 1.474945105, 1.4797924400000002, 1.4846620350000002, 1.48955392, 1.494468125, 1.49940468, 1.504363615, 1.50934496, 1.514348745, 1.5193750000000001, 1.524423755, 1.52949504, 1.534588885, 1.5397053200000002, 1.544844375, 1.5500060800000002, 1.5551904650000001, 1.56039756, 1.5656273950000001, 1.57088, 1.5761554050000002, 1.58145364, 1.586774735, 1.5921187200000002, 1.597485625, 1.6028754800000002, 1.6082883150000002, 1.61372416, 1.6191830450000002, 1.6246650000000002, 1.6301700550000002, 1.6356982400000002, 1.6412495850000002, 1.6468241200000002, 1.6524218750000002, 1.6580428799999998, 1.663687165, 1.6693547599999998, 1.6750456950000001, 1.6807599999999998, 1.686497705, 1.6922588399999998, 1.6980434350000002, 1.7038515199999997, 1.7096831250000002, 1.7155382799999999, 1.721417015, 1.7273193599999999, 1.7332453450000003, 1.739195, 1.7451683550000001, 1.7511654399999999, 1.7571862850000002, 1.7632309199999998, 1.7692993750000001, 1.77539168, 1.781507865, 1.78764796, 1.7938119950000002, 1.8, 1.8062120050000003, 1.81244804, 1.818708135, 1.82499232, 1.8313006250000001, 1.83763308, 1.8439897150000002, 1.85037056, 1.856775645, 1.8632049999999998, 1.8696586549999998, 1.87613664, 1.8826389849999998, 1.8891657199999998, 1.895716875, 1.9022924799999998, 1.908892565, 1.9155171599999998, 1.9221662949999998, 1.9288399999999999, 1.9355383050000001, 1.9422612399999999, 1.9490088349999999, 1.9557811200000002, 1.962578125, 1.96939988, 1.9762464149999999, 1.98311776, 1.9900139449999998, 1.9969350000000001, 2.003880955, 2.01085184, 2.017847685, 2.02486852, 2.031914375, 2.03898528, 2.046081265, 2.0532023600000002, 2.0603485950000002, 2.06752, 2.074716605, 2.08193844, 2.089185535, 2.0964579199999998, 2.103755625, 2.11107868, 2.1184271150000002, 2.12580096, 2.133200245, 2.140625, 2.148075255, 2.15555104, 2.163052385, 2.17057932, 2.178131875, 2.1857100799999998, 2.1933139649999998, 2.20094356, 2.2085988949999997, 2.2162800000000002, 2.2239869050000003, 2.23171964, 2.239478235, 2.24726272, 2.255073125, 2.2629094800000003, 2.2707718150000002, 2.2786601600000003, 2.286574545, 2.294515, 2.302481555, 2.3104742400000005, 2.318493085, 2.3265381200000004, 2.3346093750000003, 2.34270688, 2.350830665, 2.35898076, 2.3671571950000003, 2.37536, 2.3835892050000003, 2.39184484, 2.4001269350000003, 2.4084355200000003, 2.4167706250000003, 2.42513228, 2.4335205150000006, 2.4419353600000004, 2.4503768449999996, 2.458845, 2.4673398549999996, 2.47586144, 2.4844097849999995, 2.49298492, 2.5015868749999997, 2.51021568, 2.518871365, 2.52755396, 2.536263495, 2.545, 2.5537635049999996, 2.56255404, 2.5713716349999998, 2.58021632, 2.589088125, 2.5979870800000002, 2.6069132149999996, 2.61586656, 2.624847145, 2.633855, 2.642890155, 2.65195264, 2.661042485, 2.67015972, 2.679304375, 2.6884764800000003, 2.697676065, 2.7069031600000004, 2.716157795, 2.7254400000000003, 2.734749805, 2.7440872400000003, 2.753452335, 2.76284512, 2.772265625, 2.7817138800000003, 2.7911899150000004, 2.8006937600000006, 2.810225445, 2.8197850000000004, 2.829372455, 2.8389878400000006, 2.8486311850000003, 2.8583025200000005, 2.868001875, 2.8777292800000005, 2.887484765, 2.8972683600000004, 2.907080095, 2.91692, 2.926788105, 2.9366844400000005, 2.946609035, 2.9565619200000004, 2.9665431250000003, 2.97655268, 2.986590615, 2.9966569600000006, 3.0067517450000003, 3.0168750000000006, 3.027026755, 3.0372070399999997, 3.047415885, 3.05765332, 3.067919375, 3.0782140799999995, 3.088537465, 3.09888956, 3.1092703950000002, 3.11968, 3.1301184049999997, 3.14058564, 3.151081735, 3.16160672, 3.1721606249999996, 3.18274348, 3.193355315, 3.20399616, 3.214666045, 3.225365, 3.2360930549999996, 3.24685024, 3.257636585, 3.26845212, 3.279296875, 3.29017088, 3.301074165, 3.31200676, 3.322968695, 3.3339600000000003, 3.344980705, 3.35603084, 3.3671104350000003, 3.37821952, 3.389358125, 3.4005262800000002, 3.4117240150000003, 3.42295136, 3.434208345, 3.445495, 3.456811355, 3.4681574400000006, 3.479533285, 3.49093892, 3.5023743750000005, 3.5138396800000002, 3.5253348650000005, 3.53685996, 3.548414995, 3.5600000000000005, 3.5716150050000004, 3.5832600400000008, 3.5949351350000005, 3.6066403200000003, 3.6183756250000005, 3.6301410800000005, 3.641936715, 3.6537625600000005, 3.6656186450000003, 3.677505, 3.6894216550000003, 3.7013686400000005, 3.713345985, 3.72535372, 3.737391875, 3.7494604800000007, 3.7615595649999998, 3.7736891599999995, 3.7858492950000002, 3.7980399999999994, 3.810261305, 3.8225132399999997, 3.8347958349999995, 3.84710912, 3.859453125, 3.8718278799999997, 3.8842334149999997, 3.89666976, 3.9091369449999998, 3.9216349999999998, 3.934163955, 3.9467238399999998, 3.959314685, 3.97193652, 3.984589375, 3.99727328, 4.0099882650000005, 4.022734359999999, 4.035511595, 4.04832, 4.061159605, 4.07403044, 4.086932535, 4.09986592, 4.112830625, 4.125826679999999, 4.138854115000001, 4.151912960000001, 4.165003245, 4.178125, 4.191278255, 4.20446304, 4.217679385, 4.23092732, 4.244206875, 4.2575180800000005, 4.270860965000001, 4.28423556, 4.297641895, 4.3110800000000005, 4.3245499050000005, 4.33805164, 4.351585235, 4.36515072, 4.378748125, 4.39237748, 4.4060388150000005, 4.419732160000001, 4.433457545, 4.447215, 4.461004555000001, 4.4748262400000005, 4.488680085, 4.502566120000001, 4.516484375000001, 4.53043488, 4.544417665000001, 4.5584327600000005, 4.572480195000001, 4.5865599999999995, 4.6006722049999995, 4.61481684, 4.628993935, 4.64320352, 4.657445625, 4.67172028, 4.686027515, 4.7003673599999996, 4.714739845, 4.729144999999999, 4.743582855, 4.75805344, 4.772556785, 4.78709292, 4.801661875, 4.81626368, 4.830898365, 4.84556596, 4.860266495, 4.875, 4.889766504999999, 4.904566040000001, 4.919398635, 4.9342643200000005, 4.949163125, 4.96409508, 4.9790602150000005, 4.99405856, 5.009090145, 5.024155, 5.039253155000001, 5.05438464, 5.069549485, 5.084747719999999, 5.099979375, 5.115244479999999, 5.1305430649999995, 5.145875159999999, 5.161240795, 5.176640000000001, 5.1920728050000005, 5.20753924, 5.223039335000001, 5.238573120000001, 5.254140625, 5.269741880000001, 5.2853769150000005, 5.30104576, 5.316748445, 5.332485, 5.348255455, 5.364059840000001, 5.379898185, 5.395770520000001, 5.411676875, 5.427617280000001, 5.443591765000001, 5.4596003600000005, 5.475643095000001, 5.491720000000001, 5.507831105, 5.52397644, 5.540156035000001, 5.556369920000001, 5.572618125, 5.588900680000001, 5.605217615000001, 5.621568960000001, 5.637954745, 5.654375000000001, 5.6708297550000015, 5.68731904, 5.703842885, 5.720401320000001, 5.736994375000001, 5.753622080000001, 5.7702844650000005, 5.786981560000001, 5.803713395000001, 5.820480000000001, 5.837281405000001, 5.854117640000001, 5.870988735000001, 5.887894720000001, 5.904835625000001, 5.9218114800000015, 5.938822315000001, 5.955868160000001, 5.972949045000001, 5.990065000000001, 6.0072160550000016, 6.024402240000001, 6.041623585000001, 6.058880120000001, 6.076171875000001, 6.093498880000001, 6.110861164999999, 6.128258759999999, 6.145691695, 6.1631599999999995, 6.180663705, 6.1982028399999995, 6.215777435, 6.23338752, 6.251033124999999, 6.268714279999999, 6.286431015, 6.30418336, 6.321971345, 6.339795, 6.357654354999999, 6.3755494399999995, 6.393480285, 6.4114469199999995, 6.429449374999999, 6.44748768, 6.465561865, 6.483671959999999, 6.501817995, 6.52, 6.538218004999999, 6.556472039999999, 6.5747621349999985, 6.59308832, 6.611450625, 6.62984908, 6.648283715, 6.66675456, 6.685261644999999, 6.703805, 6.722384654999999, 6.74100064, 6.759652985, 6.77834172, 6.7970668750000005, 6.81582848, 6.834626565, 6.853461159999999, 6.872332295, 6.89124, 6.9101843050000005, 6.92916524, 6.948182835000001, 6.96723712, 6.986328125, 7.0054558799999995, 7.024620414999999, 7.04382176, 7.063059945, 7.0823350000000005, 7.101646955, 7.12099584, 7.1403816849999995, 7.159804520000001, 7.179264375000001, 7.19876128, 7.218295265, 7.23786636, 7.257474595, 7.277120000000001, 7.296802605, 7.31652244, 7.336279535000001, 7.356073920000001, 7.375905625000001, 7.395774680000001, 7.415681115, 7.43562496, 7.455606245, 7.475625, 7.495681255000001, 7.515775040000001, 7.5359063850000005, 7.556075320000001, 7.576281875000001, 7.596526080000001, 7.616807965000001, 7.637127560000001, 7.657484895, 7.677880000000001, 7.698312905000001, 7.718783640000001, 7.739292235000001, 7.759838720000001, 7.780423125, 7.801045480000001, 7.821705815000001, 7.842404160000001, 7.863140545, 7.883915000000001, 7.904727555000001, 7.925578240000001, 7.946467085, 7.967394120000001, 7.988359375000002, 8.009362880000001, 8.030404665000002, 8.051484760000001, 8.072603195000001, 8.093760000000001, 8.114955205000001, 8.136188840000003, 8.157460935000001, 8.178771520000002, 8.200120625, 8.221508280000002, 8.242934515000002, 8.264399360000002, 8.285902845, 8.307445000000001, 8.329025855000001, 8.350645440000001, 8.372303785000001, 8.39400092, 8.415736875000002, 8.437511680000002, 8.459325365000002, 8.48117796, 8.503069495000002, 8.525000000000002, 8.546969505, 8.568978040000001, 8.591025635000001, 8.613112319999999, 8.635238124999999, 8.657403079999998, 8.679607214999999, 8.701850559999999, 8.724133145, 8.746455, 8.768816155, 8.791216639999998, 8.813656485, 8.836135719999998, 8.858654374999999, 8.88121248, 8.903810064999998, 8.926447159999999, 8.949123794999998, 8.971839999999998, 8.994595805, 9.017391239999998, 9.040226335, 9.063101119999999, 9.086015625, 9.10896988, 9.131963915, 9.154997759999999, 9.178071445, 9.201184999999999, 9.224338454999998, 9.247531839999999, 9.270765185000002, 9.29403852, 9.317351875, 9.34070528, 9.364098765, 9.38753236, 9.411006095, 9.43452, 9.458074105000001, 9.48166844, 9.505303035, 9.52897792, 9.552693125, 9.57644868, 9.600244615, 9.62408096, 9.647957745, 9.671875, 9.695832755, 9.719831039999999, 9.743869884999999, 9.76794932, 9.792069375, 9.81623008, 9.840431465000002, 9.86467356, 9.888956395000001, 9.91328, 9.937644405, 9.96204964, 9.986495735, 10.01098272, 10.035510625, 10.06007948, 10.084689315, 10.10934016, 10.134032045000001, 10.158764999999999, 10.183539055, 10.20835424, 10.233210585, 10.258108120000001, 10.283046875, 10.30802688, 10.333048165000001, 10.35811076, 10.383214695000001, 10.40836, 10.433546705000001, 10.45877484, 10.484044435000001, 10.509355520000002, 10.534708125000002, 10.56010228, 10.585538015000001, 10.611015360000001, 10.636534345000001, 10.662095000000003, 10.687697355000001, 10.71334144, 10.739027285, 10.764754920000001, 10.790524375, 10.816335680000002, 10.842188865, 10.86808396, 10.894020995000002, 10.920000000000002, 10.946021005000002, 10.972084040000002, 10.998189135000002, 11.024336320000003, 11.050525625000002, 11.076757080000002, 11.103030715000003, 11.129346560000002, 11.155704645000002, 11.182105000000004, 11.208547655000002, 11.235032640000002, 11.261559985000002, 11.28812972, 11.314741875, 11.341396480000002, 11.368093565000002, 11.394833160000001, 11.421615295, 11.448440000000002, 11.475307305000001, 11.502217240000002, 11.529169835000001, 11.556165120000003, 11.583203125000002, 11.61028388, 11.637407415000002, 11.664573760000001, 11.691782945000003, 11.719035000000002, 11.746329955, 11.773667840000003, 11.801048685, 11.828472519999998, 11.855939374999998, 11.883449279999997, 11.911002264999999, 11.93859836, 11.966237594999999, 11.993919999999997, 12.021645605, 12.04941444, 12.077226535, 12.10508192, 12.132980624999998, 12.160922679999999, 12.188908115, 12.216936959999998, 12.245009244999999, 12.273125, 12.301284254999999, 12.32948704, 12.357733385, 12.38602332, 12.414356875, 12.44273408, 12.471154965, 12.49961956, 12.528127895, 12.55668, 12.585275905, 12.61391564, 12.642599234999999, 12.671326719999998, 12.700098125, 12.72891348, 12.757772815, 12.786676159999999, 12.815623545, 12.844615, 12.873650555000001, 12.90273024, 12.931854085, 12.961022119999999, 12.990234375, 13.01949088, 13.048791664999998, 13.07813676, 13.107526194999998, 13.13696, 13.166438205, 13.195960840000001, 13.225527935, 13.25513952, 13.284795625000001, 13.31449628, 13.344241515, 13.37403136, 13.403865845000002, 13.433745000000002, 13.463668855, 13.49363744, 13.523650785000001, 13.553708920000002, 13.583811874999999, 13.61395968, 13.644152365, 13.67438996, 13.704672495000002, 13.735000000000003, 13.765372505, 13.79579004, 13.826252635, 13.856760320000001, 13.887313125, 13.91791108, 13.948554215000001, 13.97924256, 14.009976145000001, 14.040755, 14.071579155000002, 14.10244864, 14.133363485000002, 14.164323720000002, 14.195329375000002, 14.22638048, 14.257477065, 14.288619160000001, 14.319806795000002, 14.351040000000001, 14.382318805, 14.413643240000003, 14.445013335, 14.476429120000002, 14.507890625, 14.539397880000003, 14.570950915000001, 14.60254976, 14.634194445000002, 14.665885000000003, 14.697621455000002, 14.729403840000003, 14.761232185, 14.793106520000002, 14.825026875000002, 14.856993280000001, 14.889005765000002, 14.921064360000003, 14.953169095000002, 14.985320000000002, 15.017517105000001, 15.049760440000004, 15.082050035000002, 15.114385920000002, 15.146768125000003, 15.17919668, 15.211671615000002, 15.244192960000003, 15.276760745000002, 15.309375000000001, 15.342035755000005, 15.374743040000002, 15.407496885000002, 15.440297320000003, 15.473144375, 15.506038080000003, 15.538978465000001, 15.571965560000002, 15.604999395000004, 15.638079999999999, 15.671207405, 15.70438164, 15.737602735, 15.770870720000001, 15.804185624999999, 15.83754748, 15.870956315, 15.90441216, 15.937915044999997, 15.971465, 16.005062055, 16.03870624, 16.072397584999997, 16.10613612, 16.139921875, 16.173754879999997, 16.207635165, 16.24156276, 16.275537694999997, 16.309559999999998, 16.343629704999998, 16.377746839999997, 16.411911435, 16.44612352, 16.480383125, 16.51469028, 16.549045015, 16.58344736, 16.617897345, 16.652395, 16.686940355, 16.721533439999998, 16.756174285, 16.79086292, 16.825599375000003, 16.860383679999998, 16.895215864999997, 16.93009596, 16.965023995]}],\n",
              "                        {\"template\": {\"data\": {\"bar\": [{\"error_x\": {\"color\": \"#2a3f5f\"}, \"error_y\": {\"color\": \"#2a3f5f\"}, \"marker\": {\"line\": {\"color\": \"#E5ECF6\", \"width\": 0.5}}, \"type\": \"bar\"}], \"barpolar\": [{\"marker\": {\"line\": {\"color\": \"#E5ECF6\", \"width\": 0.5}}, \"type\": \"barpolar\"}], \"carpet\": [{\"aaxis\": {\"endlinecolor\": \"#2a3f5f\", \"gridcolor\": \"white\", \"linecolor\": \"white\", \"minorgridcolor\": \"white\", \"startlinecolor\": \"#2a3f5f\"}, \"baxis\": {\"endlinecolor\": \"#2a3f5f\", \"gridcolor\": \"white\", \"linecolor\": \"white\", \"minorgridcolor\": \"white\", \"startlinecolor\": \"#2a3f5f\"}, \"type\": \"carpet\"}], \"choropleth\": [{\"colorbar\": {\"outlinewidth\": 0, \"ticks\": \"\"}, \"type\": \"choropleth\"}], \"contour\": [{\"colorbar\": {\"outlinewidth\": 0, \"ticks\": \"\"}, \"colorscale\": [[0.0, \"#0d0887\"], [0.1111111111111111, \"#46039f\"], [0.2222222222222222, \"#7201a8\"], [0.3333333333333333, \"#9c179e\"], [0.4444444444444444, \"#bd3786\"], [0.5555555555555556, \"#d8576b\"], [0.6666666666666666, \"#ed7953\"], [0.7777777777777778, \"#fb9f3a\"], [0.8888888888888888, \"#fdca26\"], [1.0, \"#f0f921\"]], \"type\": \"contour\"}], \"contourcarpet\": [{\"colorbar\": {\"outlinewidth\": 0, \"ticks\": \"\"}, \"type\": \"contourcarpet\"}], \"heatmap\": [{\"colorbar\": {\"outlinewidth\": 0, \"ticks\": \"\"}, \"colorscale\": [[0.0, \"#0d0887\"], [0.1111111111111111, \"#46039f\"], [0.2222222222222222, \"#7201a8\"], [0.3333333333333333, \"#9c179e\"], [0.4444444444444444, \"#bd3786\"], [0.5555555555555556, \"#d8576b\"], [0.6666666666666666, \"#ed7953\"], [0.7777777777777778, \"#fb9f3a\"], [0.8888888888888888, \"#fdca26\"], [1.0, \"#f0f921\"]], \"type\": \"heatmap\"}], \"heatmapgl\": [{\"colorbar\": {\"outlinewidth\": 0, \"ticks\": \"\"}, \"colorscale\": [[0.0, \"#0d0887\"], [0.1111111111111111, \"#46039f\"], [0.2222222222222222, \"#7201a8\"], [0.3333333333333333, \"#9c179e\"], [0.4444444444444444, \"#bd3786\"], [0.5555555555555556, \"#d8576b\"], [0.6666666666666666, \"#ed7953\"], [0.7777777777777778, \"#fb9f3a\"], [0.8888888888888888, \"#fdca26\"], [1.0, \"#f0f921\"]], \"type\": \"heatmapgl\"}], \"histogram\": [{\"marker\": {\"colorbar\": {\"outlinewidth\": 0, \"ticks\": \"\"}}, \"type\": \"histogram\"}], \"histogram2d\": [{\"colorbar\": {\"outlinewidth\": 0, \"ticks\": \"\"}, \"colorscale\": [[0.0, \"#0d0887\"], [0.1111111111111111, \"#46039f\"], [0.2222222222222222, \"#7201a8\"], [0.3333333333333333, \"#9c179e\"], [0.4444444444444444, \"#bd3786\"], [0.5555555555555556, \"#d8576b\"], [0.6666666666666666, \"#ed7953\"], [0.7777777777777778, \"#fb9f3a\"], [0.8888888888888888, \"#fdca26\"], [1.0, \"#f0f921\"]], \"type\": \"histogram2d\"}], \"histogram2dcontour\": [{\"colorbar\": {\"outlinewidth\": 0, \"ticks\": \"\"}, \"colorscale\": [[0.0, \"#0d0887\"], [0.1111111111111111, \"#46039f\"], [0.2222222222222222, \"#7201a8\"], [0.3333333333333333, \"#9c179e\"], [0.4444444444444444, \"#bd3786\"], [0.5555555555555556, \"#d8576b\"], [0.6666666666666666, \"#ed7953\"], [0.7777777777777778, \"#fb9f3a\"], [0.8888888888888888, \"#fdca26\"], [1.0, \"#f0f921\"]], \"type\": \"histogram2dcontour\"}], \"mesh3d\": [{\"colorbar\": {\"outlinewidth\": 0, \"ticks\": \"\"}, \"type\": \"mesh3d\"}], \"parcoords\": [{\"line\": {\"colorbar\": {\"outlinewidth\": 0, \"ticks\": \"\"}}, \"type\": \"parcoords\"}], \"pie\": [{\"automargin\": true, \"type\": \"pie\"}], \"scatter\": [{\"marker\": {\"colorbar\": {\"outlinewidth\": 0, \"ticks\": \"\"}}, \"type\": \"scatter\"}], \"scatter3d\": [{\"line\": {\"colorbar\": {\"outlinewidth\": 0, \"ticks\": \"\"}}, \"marker\": {\"colorbar\": {\"outlinewidth\": 0, \"ticks\": \"\"}}, \"type\": \"scatter3d\"}], \"scattercarpet\": [{\"marker\": {\"colorbar\": {\"outlinewidth\": 0, \"ticks\": \"\"}}, \"type\": \"scattercarpet\"}], \"scattergeo\": [{\"marker\": {\"colorbar\": {\"outlinewidth\": 0, \"ticks\": \"\"}}, \"type\": \"scattergeo\"}], \"scattergl\": [{\"marker\": {\"colorbar\": {\"outlinewidth\": 0, \"ticks\": \"\"}}, \"type\": \"scattergl\"}], \"scattermapbox\": [{\"marker\": {\"colorbar\": {\"outlinewidth\": 0, \"ticks\": \"\"}}, \"type\": \"scattermapbox\"}], \"scatterpolar\": [{\"marker\": {\"colorbar\": {\"outlinewidth\": 0, \"ticks\": \"\"}}, \"type\": \"scatterpolar\"}], \"scatterpolargl\": [{\"marker\": {\"colorbar\": {\"outlinewidth\": 0, \"ticks\": \"\"}}, \"type\": \"scatterpolargl\"}], \"scatterternary\": [{\"marker\": {\"colorbar\": {\"outlinewidth\": 0, \"ticks\": \"\"}}, \"type\": \"scatterternary\"}], \"surface\": [{\"colorbar\": {\"outlinewidth\": 0, \"ticks\": \"\"}, \"colorscale\": [[0.0, \"#0d0887\"], [0.1111111111111111, \"#46039f\"], [0.2222222222222222, \"#7201a8\"], [0.3333333333333333, \"#9c179e\"], [0.4444444444444444, \"#bd3786\"], [0.5555555555555556, \"#d8576b\"], [0.6666666666666666, \"#ed7953\"], [0.7777777777777778, \"#fb9f3a\"], [0.8888888888888888, \"#fdca26\"], [1.0, \"#f0f921\"]], \"type\": \"surface\"}], \"table\": [{\"cells\": {\"fill\": {\"color\": \"#EBF0F8\"}, \"line\": {\"color\": \"white\"}}, \"header\": {\"fill\": {\"color\": \"#C8D4E3\"}, \"line\": {\"color\": \"white\"}}, \"type\": \"table\"}]}, \"layout\": {\"annotationdefaults\": {\"arrowcolor\": \"#2a3f5f\", \"arrowhead\": 0, \"arrowwidth\": 1}, \"coloraxis\": {\"colorbar\": {\"outlinewidth\": 0, \"ticks\": \"\"}}, \"colorscale\": {\"diverging\": [[0, \"#8e0152\"], [0.1, \"#c51b7d\"], [0.2, \"#de77ae\"], [0.3, \"#f1b6da\"], [0.4, \"#fde0ef\"], [0.5, \"#f7f7f7\"], [0.6, \"#e6f5d0\"], [0.7, \"#b8e186\"], [0.8, \"#7fbc41\"], [0.9, \"#4d9221\"], [1, \"#276419\"]], \"sequential\": [[0.0, \"#0d0887\"], [0.1111111111111111, \"#46039f\"], [0.2222222222222222, \"#7201a8\"], [0.3333333333333333, \"#9c179e\"], [0.4444444444444444, \"#bd3786\"], [0.5555555555555556, \"#d8576b\"], [0.6666666666666666, \"#ed7953\"], [0.7777777777777778, \"#fb9f3a\"], [0.8888888888888888, \"#fdca26\"], [1.0, \"#f0f921\"]], \"sequentialminus\": [[0.0, \"#0d0887\"], [0.1111111111111111, \"#46039f\"], [0.2222222222222222, \"#7201a8\"], [0.3333333333333333, \"#9c179e\"], [0.4444444444444444, \"#bd3786\"], [0.5555555555555556, \"#d8576b\"], [0.6666666666666666, \"#ed7953\"], [0.7777777777777778, \"#fb9f3a\"], [0.8888888888888888, \"#fdca26\"], [1.0, \"#f0f921\"]]}, \"colorway\": [\"#636efa\", \"#EF553B\", \"#00cc96\", \"#ab63fa\", \"#FFA15A\", \"#19d3f3\", \"#FF6692\", \"#B6E880\", \"#FF97FF\", \"#FECB52\"], \"font\": {\"color\": \"#2a3f5f\"}, \"geo\": {\"bgcolor\": \"white\", \"lakecolor\": \"white\", \"landcolor\": \"#E5ECF6\", \"showlakes\": true, \"showland\": true, \"subunitcolor\": \"white\"}, \"hoverlabel\": {\"align\": \"left\"}, \"hovermode\": \"closest\", \"mapbox\": {\"style\": \"light\"}, \"paper_bgcolor\": \"white\", \"plot_bgcolor\": \"#E5ECF6\", \"polar\": {\"angularaxis\": {\"gridcolor\": \"white\", \"linecolor\": \"white\", \"ticks\": \"\"}, \"bgcolor\": \"#E5ECF6\", \"radialaxis\": {\"gridcolor\": \"white\", \"linecolor\": \"white\", \"ticks\": \"\"}}, \"scene\": {\"xaxis\": {\"backgroundcolor\": \"#E5ECF6\", \"gridcolor\": \"white\", \"gridwidth\": 2, \"linecolor\": \"white\", \"showbackground\": true, \"ticks\": \"\", \"zerolinecolor\": \"white\"}, \"yaxis\": {\"backgroundcolor\": \"#E5ECF6\", \"gridcolor\": \"white\", \"gridwidth\": 2, \"linecolor\": \"white\", \"showbackground\": true, \"ticks\": \"\", \"zerolinecolor\": \"white\"}, \"zaxis\": {\"backgroundcolor\": \"#E5ECF6\", \"gridcolor\": \"white\", \"gridwidth\": 2, \"linecolor\": \"white\", \"showbackground\": true, \"ticks\": \"\", \"zerolinecolor\": \"white\"}}, \"shapedefaults\": {\"line\": {\"color\": \"#2a3f5f\"}}, \"ternary\": {\"aaxis\": {\"gridcolor\": \"white\", \"linecolor\": \"white\", \"ticks\": \"\"}, \"baxis\": {\"gridcolor\": \"white\", \"linecolor\": \"white\", \"ticks\": \"\"}, \"bgcolor\": \"#E5ECF6\", \"caxis\": {\"gridcolor\": \"white\", \"linecolor\": \"white\", \"ticks\": \"\"}}, \"title\": {\"x\": 0.05}, \"xaxis\": {\"automargin\": true, \"gridcolor\": \"white\", \"linecolor\": \"white\", \"ticks\": \"\", \"title\": {\"standoff\": 15}, \"zerolinecolor\": \"white\", \"zerolinewidth\": 2}, \"yaxis\": {\"automargin\": true, \"gridcolor\": \"white\", \"linecolor\": \"white\", \"ticks\": \"\", \"title\": {\"standoff\": 15}, \"zerolinecolor\": \"white\", \"zerolinewidth\": 2}}}},\n",
              "                        {\"responsive\": true}\n",
              "                    ).then(function(){\n",
              "                            \n",
              "var gd = document.getElementById('ecb4f588-5ad3-40f9-b486-888c3bea8256');\n",
              "var x = new MutationObserver(function (mutations, observer) {{\n",
              "        var display = window.getComputedStyle(gd).display;\n",
              "        if (!display || display === 'none') {{\n",
              "            console.log([gd, 'removed!']);\n",
              "            Plotly.purge(gd);\n",
              "            observer.disconnect();\n",
              "        }}\n",
              "}});\n",
              "\n",
              "// Listen for the removal of the full notebook cells\n",
              "var notebookContainer = gd.closest('#notebook-container');\n",
              "if (notebookContainer) {{\n",
              "    x.observe(notebookContainer, {childList: true});\n",
              "}}\n",
              "\n",
              "// Listen for the clearing of the current output cell\n",
              "var outputEl = gd.closest('.output');\n",
              "if (outputEl) {{\n",
              "    x.observe(outputEl, {childList: true});\n",
              "}}\n",
              "\n",
              "                        })\n",
              "                };\n",
              "                \n",
              "            </script>\n",
              "        </div>\n",
              "</body>\n",
              "</html>"
            ]
          },
          "metadata": {
            "tags": []
          }
        }
      ]
    },
    {
      "cell_type": "markdown",
      "metadata": {
        "id": "lCrGlAGD1njR",
        "colab_type": "text"
      },
      "source": [
        "### Test your understanding\n",
        "\n",
        "\n",
        "1.   WAP to generate curves for parametric representation of:\n",
        "     * Straight line\n",
        "     * Circle\n",
        "     * Ellipse\n"
      ]
    },
    {
      "cell_type": "markdown",
      "metadata": {
        "id": "j0NRchs22mCx",
        "colab_type": "text"
      },
      "source": [
        "### Tangent vector, $Q^{'}(t)$\n",
        "Represents the parametric (as opposed to _geometric_) slope:\n",
        "\\begin{equation*}\n",
        "  Q'(t) = [x'(t),  y'(t),  z'(t)] \\\\\n",
        "  x'(t) = 3a_{x}t^2 + 2b_{x}t + c_{x}\\\\\n",
        "  y'(t) = 3a_{y}t^2 + 2b_{y}t + c_{y}\\\\\n",
        "  z'(t) = 3a_{z}t^2 + 2b_{z}t + c_{z}\n",
        "\\end{equation*}\n",
        "\n",
        "* Demo:\n",
        "  * https://www.geogebra.org/m/uTh6gAh2"
      ]
    },
    {
      "cell_type": "code",
      "metadata": {
        "id": "CcKDDWI29NYC",
        "colab_type": "code",
        "colab": {}
      },
      "source": [
        "# Implement derivative curves for the input parametric curve."
      ],
      "execution_count": 0,
      "outputs": []
    },
    {
      "cell_type": "markdown",
      "metadata": {
        "id": "00nG1Hpe28zl",
        "colab_type": "text"
      },
      "source": [
        "## Continuity, a measure of smoothness for curves\n",
        "Intention is to create _realistic_ smooth shapes. The concept of _Continuity_ represents the notion smoothness in parametric curves. Instead of a single smooth curve, realism is often achived using _piecewise_ smooth curves or curve segments. \n",
        "\n",
        "*   Geometric: (Viewing curve purely as a shape)\n",
        "    * Usually defined in terms of parameterization, but the choice of parameterization does not affect the outcome.\n",
        "      * If a shape is represented using parameteric representations $P_1$ and $P_2$ then the if it is $G_1$ continuous in $P_1$ then it will also be the same in $P_2$.\n",
        "    * $G^0$: Endpoints match\n",
        "    * $G^1$: Slope of curves match in direction, not neccasarily the magnitude:\n",
        "      * $TK_1 = \\alpha TK_2$\n",
        "    * $G^2$: Curvature of curves match\n",
        "*   Parametric: (Viewing curve as a function)\n",
        "    * Cannot be defined by the shape of the curve alone, it requires parameterization of the curve.\n",
        "      * We cannot define parametric continuity of an explict or an implicit curve. But geometric continuity of an explict or implicit representation of a curve is a valid concept.\n",
        "    * $C^0, C^1, C^2$ \n",
        "      * d${Q_{1}^n} / dt^n = d{Q_{2}^n} / dt^n$ for $C^n$.\n",
        "*   There are $C_1$ curves that are not $G_1$:\n",
        "     * **EXPLAIN, YOUR assignment!!**\n",
        "     \n",
        "\n"
      ]
    },
    {
      "cell_type": "markdown",
      "metadata": {
        "id": "ucQyJcmS-xIb",
        "colab_type": "text"
      },
      "source": [
        "## An example of discontinuity"
      ]
    },
    {
      "cell_type": "code",
      "metadata": {
        "id": "EO0XNPKL-p2C",
        "colab_type": "code",
        "outputId": "d095d0d8-6bb4-427a-d336-2b3e30248542",
        "colab": {
          "base_uri": "https://localhost:8080/",
          "height": 295
        }
      },
      "source": [
        "  coff_matrix1 = np.array([[3, 2, 5],[5, 7, 9],[10, 11, 2], [2, 5, 1]])\n",
        "  curve1 = CubicPolynomialParametericRepresentation(coff_matrix1)\n",
        "  coff_matrix2 = np.array([[3.9, 2.9, 5.9],[5.9, 7.9, 9.9],[10.9, 11.9, 2.9], [2.9, 5.9, 1.9]])\n",
        "  curve2 = CubicPolynomialParametericRepresentation(coff_matrix2)\n",
        "  # generate list of (x, y)  \n",
        "  n_points = 1000\n",
        "  x1 = [t for t in arange(0, 1, 1 / n_points)] \n",
        "  y1 = []\n",
        "  x2 = [t for t in arange(1, 2, 1 / n_points)] \n",
        "  y2 = []\n",
        "  for i in x1:\n",
        "    y1.append(curve1.generate_points_on_representation_vectorized(i))  \n",
        "  for i in x2:\n",
        "    y2.append(curve2.generate_points_on_representation_vectorized(i))      \n",
        "  \n",
        "  xt1 = [y1[i][0]  for i in range(n_points)]\n",
        "  xt2 = [y2[i][0]  for i in range(n_points)]\n",
        "  \n",
        "  \n",
        "  plt.plot(x1, xt1)  # xt   \n",
        "  plt.plot(x2, xt2)  # xt   \n",
        "  plt.title('Parametric continuity, x vs t')\n",
        "  plt.ylabel('x')\n",
        "  plt.xlabel('t')\n",
        "  plt.show()  \n"
      ],
      "execution_count": 0,
      "outputs": [
        {
          "output_type": "display_data",
          "data": {
            "image/png": "[encoded data removed]",
            "text/plain": [
              "<Figure size 432x288 with 1 Axes>"
            ]
          },
          "metadata": {
            "tags": []
          }
        }
      ]
    },
    {
      "cell_type": "markdown",
      "metadata": {
        "id": "MAKK2tCp3Vx1",
        "colab_type": "text"
      },
      "source": [
        "### Test your understanding:\n",
        "\n",
        "\n",
        "*   Plot (first and second) gradients of a cubic polynomial curves.\n",
        "*   WAP to implement a continuity estimator, given constraint matrices, $C$ as input.\n",
        "*   Examples where $C^1$ does not imply $G^1$. **Bonus point if you can clearly explain it to me.**\n",
        "\n"
      ]
    },
    {
      "cell_type": "code",
      "metadata": {
        "id": "vzaSNH3OJB8j",
        "colab_type": "code",
        "colab": {}
      },
      "source": [
        "# Example code to test continuity of input (parametric) curves\n",
        "def determine_curve_continuity(coff_matrix1, coff_matrix2):\n",
        "  '''\n",
        "  parameteric:\n",
        "    compute derivative from 0 to 2 of the input curve segments\n",
        "    if values of the derivatives match at connecting points, set C[i] = 1\n",
        "    else, exit\n",
        "  geometric:\n",
        "        \n",
        "  '''\n",
        "  None\n",
        "\n",
        "c = determine_curve_continuity(coff_matrix1, coff_matrix2)\n",
        "\n",
        "if (c == 0):\n",
        "  print(\"Curves segments are not continous at boundary!!\")\n",
        "else:  \n",
        "  for i in range(c.shape[0], 0, -1):\n",
        "    if c[i] == 1:\n",
        "      print(\"The curve segments have: C\", i, \"continuity!!\")\n",
        "    else:\n",
        "      continue        "
      ],
      "execution_count": 0,
      "outputs": []
    }
  ]
}