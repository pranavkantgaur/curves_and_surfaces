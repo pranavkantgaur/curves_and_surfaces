{
  "nbformat": 4,
  "nbformat_minor": 0,
  "metadata": {
    "colab": {
      "name": "Bezier_curves_lec_4.ipynb",
      "provenance": [],
      "collapsed_sections": [],
      "authorship_tag": "ABX9TyN94v7a2DyvoHE2MtXJHhjz",
      "include_colab_link": true
    },
    "kernelspec": {
      "name": "python3",
      "display_name": "Python 3"
    }
  },
  "cells": [
    {
      "cell_type": "markdown",
      "metadata": {
        "id": "view-in-github",
        "colab_type": "text"
      },
      "source": [
        "<a href=\"https://colab.research.google.com/github/pranavkantgaur/curves_and_surfaces/blob/master/parametric_representations/Bezier_curves_lec_4.ipynb\" target=\"_parent\"><img src=\"https://colab.research.google.com/assets/colab-badge.svg\" alt=\"Open In Colab\"/></a>"
      ]
    },
    {
      "cell_type": "markdown",
      "metadata": {
        "id": "0R98bczBvTtl",
        "colab_type": "text"
      },
      "source": [
        "## Objectives:\n",
        "\n",
        "0.   Leftovers:\n",
        "     * Case with $C_1$ but not $G_1$\n",
        "     * Case with $G_1$ but not $C_1$\n",
        "1.   Introduction to Bezier curves\n",
        "2.   Properties of Bezier curves \n",
        "3.   Demo\n"
      ]
    },
    {
      "cell_type": "markdown",
      "metadata": {
        "id": "B2ReQ-BL7nXv",
        "colab_type": "text"
      },
      "source": [
        "## Leftovers\n",
        "* $C_1$ but not $G_1$\n",
        "  * https://www.geogebra.org/m/y85tyjvp\n",
        "    * Derivatives curve: (Zero tangent vector)\n",
        "      * https://www.geogebra.org/m/ytdbadcr\n",
        "* $G_1$ but not $C_1$\n",
        "  * https://www.geogebra.org/graphing/zshbnzxw\n",
        "* Which one is more (visually) smooth?  "
      ]
    },
    {
      "cell_type": "markdown",
      "metadata": {
        "id": "j-2_qFatkt86",
        "colab_type": "text"
      },
      "source": [
        "## Bezier Curves\n",
        "* Geometric constraints:\n",
        "   \\begin{equation*}\n",
        "    G_{B_{x}} = \n",
        "    \\begin{bmatrix}\n",
        "    P_1 \\\\\n",
        "    P_2 \\\\ \n",
        "    P_3 \\\\\n",
        "    P_4\n",
        "    \\end{bmatrix}\n",
        "  \\end{equation*} \n",
        "  where $P_1, P_4$ are endpoints and $P_2,P_3$ are intermidiate points(not on the curve). Similarly for $G_{B_{y}}$ and $G_{B_{z}}$.\n",
        "* Tangent vectors can be derived: (**Proof: Out of scope and out of mind :)**)\n",
        "  \\begin{equation*}\n",
        "    R_1 = Q'(0) = 3*(P_2 - P_1) \\\\\n",
        "    R_4 = Q'(1) = 3*(P_4 - P_3)\n",
        "  \\end{equation*}  \n",
        "* Relation with Hermite geometry vector:\n",
        "  \\begin{equation*}\n",
        "  G_H = M_{HB} * G_B\n",
        "  \\end{equation*}  \n",
        "  where,\n",
        "  \\begin{equation*}\n",
        "  G_H = \n",
        "  \\begin{bmatrix}\n",
        "    P_1 \\\\\n",
        "    P_4 \\\\\n",
        "    R_1 \\\\\n",
        "    R_4\n",
        "  \\end{bmatrix}\n",
        "  \\end{equation*}\n",
        "  $M_{HB}$ represents the Bezier to Hermite geometric constraints transformation matrix:\n",
        "  \\begin{equation*}\n",
        "  M_{HB} = \n",
        "  \\begin{bmatrix}\n",
        "    1 & 0 & 0 & 0 \\\\\n",
        "    -3 & 3& 0 & 0\\\\\n",
        "    0 & 0& -3 & 3\\\\\n",
        "    0 & 0 & 0& 1\n",
        "  \\end{bmatrix}\n",
        "  \\end{equation*}\n",
        "  Therefore,\n",
        "  \\begin{equation*}\n",
        "  M_B = M_H * M_{HB}\n",
        "  \\end{equation*}\n",
        "* Basis matrix based on above discussion turns out to be,\n",
        "  \\begin{equation*}\n",
        "  M_B = \n",
        "  \\begin{bmatrix}\n",
        "   -1 & 3 & -3 & 1\\\\\n",
        "   3 & -6 & 3 & 0\\\\\n",
        "   -3 & 3 & 0 & 0\\\\\n",
        "   1 & 0 & 0 & 0\n",
        "  \\end{bmatrix}\n",
        "  \\end{equation*}  \n",
        "* Algebraic form,\n",
        "  \\begin{equation*}\n",
        "  Q(t) = (1-t)^3 * P_1 + 3t(1 - t)^2 * P_2 + 3t^2(1 - t) * P_3 + t^3 * P_4\n",
        "  \\end{equation*}  \n",
        "  where the weight polynomials are also refered to as _Bernstein Polynomials_."
      ]
    },
    {
      "cell_type": "markdown",
      "metadata": {
        "id": "HTSP2aqV8xs-",
        "colab_type": "text"
      },
      "source": [
        "### Demo\n",
        "* https://www.geogebra.org/m/WPHQ9rUt"
      ]
    },
    {
      "cell_type": "markdown",
      "metadata": {
        "id": "RiNJfD5_qiU9",
        "colab_type": "text"
      },
      "source": [
        "## Test your understanding\n",
        "* Derive $M_{HB}$\n",
        "* Derive $M_B$\n",
        "* Derive $Q(t)$\n",
        "* Plot _Bernstein Polynomials_\n",
        "* WAP to convert HermiteCurve to BezierCurve, as: \n",
        "```python\n",
        "def HermiteToBezier(p1, p4, r1, r4):\n",
        "  None # YOUR CODE HERE\n",
        "  return q1, q2, q3, q4\n",
        "```\n",
        "Above function reads the cofficients of a Hermite curve and returns corresponding coefficients of a Bezier curve.\n",
        "\n",
        "* Under which conditions does the two joining Bezier curves exhibit $C^1$ continuity?"
      ]
    },
    {
      "cell_type": "markdown",
      "metadata": {
        "id": "IpQu6DQXq6KF",
        "colab_type": "text"
      },
      "source": [
        "## Properties of Bezier Curves\n",
        "* Blending polynomials at any point $t$ sum to unity. Each polynomial is non-negative for $0 \\leq t \\leq 1$.\n",
        "* The start and end of the bezier curve are tangents to the start and end sections of the convex hull.\n",
        "* Curve always lies in the convex hull of its control points. Interpolates $P_1, P_4$:\n",
        "  * Useful for clipping curve segments"
      ]
    },
    {
      "cell_type": "markdown",
      "metadata": {
        "id": "4sLqRRA2t3I1",
        "colab_type": "text"
      },
      "source": [
        "## Bezier vs Hermite: Significance\n",
        "* Bezier formulation constrains the tangent vectors of Hermite curve such that the resultant cuve always lies within the convex hull of its control points."
      ]
    }
  ]
}